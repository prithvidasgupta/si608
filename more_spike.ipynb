{
 "cells": [
  {
   "cell_type": "code",
   "execution_count": 1,
   "metadata": {},
   "outputs": [],
   "source": [
    "import pandas as pd\n",
    "import pickle"
   ]
  },
  {
   "cell_type": "code",
   "execution_count": 3,
   "metadata": {},
   "outputs": [],
   "source": [
    "def get_max_spike_page(page, central_df, prev_month_df, next_month_df):\n",
    "    pages_to_check = set([*central_df[(central_df['prev']==page) & (central_df['clicks']>=100)]['curr'].values,\n",
    "                        *central_df[(central_df['curr']==page) & (central_df['clicks']>=100)]['prev'].values,\n",
    "                        *prev_month_df[(prev_month_df['prev']==page) & (prev_month_df['clicks']>=100)]['curr'].values,\n",
    "                        *prev_month_df[(prev_month_df['curr']==page) & (prev_month_df['clicks']>=100)]['prev'].values,\n",
    "                        *next_month_df[(next_month_df['prev']==page) & (next_month_df['clicks']>=100)]['curr'].values,\n",
    "                        *next_month_df[(next_month_df['curr']==page) & (next_month_df['clicks']>=100)]['prev'].values,\n",
    "                        page\n",
    "                        ])\n",
    "    inflow_prev = prev_month_df[prev_month_df['type']!='other'].groupby('curr')[['clicks']].agg(sum)\n",
    "    inflow_central = central_df[central_df['type']!='other'].groupby('curr')[['clicks']].agg(sum)\n",
    "    inflow_next = next_month_df[next_month_df['type']!='other'].groupby('curr')[['clicks']].agg(sum)\n",
    "\n",
    "    inflow_prev = inflow_prev[inflow_prev.index.isin(pages_to_check)]\n",
    "    inflow_central = inflow_central[inflow_central.index.isin(pages_to_check)]\n",
    "    inflow_next = inflow_next[inflow_next.index.isin(pages_to_check)]\n",
    "\n",
    "    merged = inflow_central.join(inflow_prev, lsuffix='_central', rsuffix='_prev')\n",
    "    merged = merged.join(inflow_next, rsuffix='_next')\n",
    "    merged['clicks_next'] = merged['clicks']\n",
    "    merged=merged.drop('clicks',axis=1)\n",
    "    merged['spike_ratio'] = (2*merged['clicks_central'])/(merged['clicks_prev']+merged['clicks_next'])\n",
    "    next_step_pages = merged[merged['spike_ratio']>1.5].sort_values('clicks_central', ascending=False)\n",
    "    return next_step_pages.head(10)\n"
   ]
  },
  {
   "cell_type": "code",
   "execution_count": 4,
   "metadata": {},
   "outputs": [
    {
     "data": {
      "text/plain": [
       "2019"
      ]
     },
     "metadata": {},
     "output_type": "display_data"
    },
    {
     "data": {
      "text/html": [
       "<div>\n",
       "<style scoped>\n",
       "    .dataframe tbody tr th:only-of-type {\n",
       "        vertical-align: middle;\n",
       "    }\n",
       "\n",
       "    .dataframe tbody tr th {\n",
       "        vertical-align: top;\n",
       "    }\n",
       "\n",
       "    .dataframe thead th {\n",
       "        text-align: right;\n",
       "    }\n",
       "</style>\n",
       "<table border=\"1\" class=\"dataframe\">\n",
       "  <thead>\n",
       "    <tr style=\"text-align: right;\">\n",
       "      <th></th>\n",
       "      <th>clicks_central</th>\n",
       "      <th>clicks_prev</th>\n",
       "      <th>clicks_next</th>\n",
       "      <th>spike_ratio</th>\n",
       "    </tr>\n",
       "    <tr>\n",
       "      <th>curr</th>\n",
       "      <th></th>\n",
       "      <th></th>\n",
       "      <th></th>\n",
       "      <th></th>\n",
       "    </tr>\n",
       "  </thead>\n",
       "  <tbody>\n",
       "    <tr>\n",
       "      <th>September_11_attacks</th>\n",
       "      <td>2799511</td>\n",
       "      <td>409780</td>\n",
       "      <td>3241630</td>\n",
       "      <td>1.533386</td>\n",
       "    </tr>\n",
       "    <tr>\n",
       "      <th>Casualties_of_the_September_11_attacks</th>\n",
       "      <td>772326</td>\n",
       "      <td>64409</td>\n",
       "      <td>841290</td>\n",
       "      <td>1.705481</td>\n",
       "    </tr>\n",
       "    <tr>\n",
       "      <th>Timeline_for_the_day_of_the_September_11_attacks</th>\n",
       "      <td>599876</td>\n",
       "      <td>21663</td>\n",
       "      <td>630083</td>\n",
       "      <td>1.840828</td>\n",
       "    </tr>\n",
       "    <tr>\n",
       "      <th>United_Airlines_Flight_93</th>\n",
       "      <td>584705</td>\n",
       "      <td>68876</td>\n",
       "      <td>658933</td>\n",
       "      <td>1.606754</td>\n",
       "    </tr>\n",
       "    <tr>\n",
       "      <th>Rick_Rescorla</th>\n",
       "      <td>388323</td>\n",
       "      <td>73912</td>\n",
       "      <td>404504</td>\n",
       "      <td>1.623370</td>\n",
       "    </tr>\n",
       "    <tr>\n",
       "      <th>American_Airlines_Flight_11</th>\n",
       "      <td>287207</td>\n",
       "      <td>46131</td>\n",
       "      <td>333964</td>\n",
       "      <td>1.511238</td>\n",
       "    </tr>\n",
       "    <tr>\n",
       "      <th>Collapse_of_the_World_Trade_Center</th>\n",
       "      <td>278131</td>\n",
       "      <td>29122</td>\n",
       "      <td>313135</td>\n",
       "      <td>1.625276</td>\n",
       "    </tr>\n",
       "    <tr>\n",
       "      <th>The_Falling_Man</th>\n",
       "      <td>269971</td>\n",
       "      <td>25890</td>\n",
       "      <td>297978</td>\n",
       "      <td>1.667167</td>\n",
       "    </tr>\n",
       "    <tr>\n",
       "      <th>United_Airlines_Flight_175</th>\n",
       "      <td>240384</td>\n",
       "      <td>33629</td>\n",
       "      <td>276438</td>\n",
       "      <td>1.550529</td>\n",
       "    </tr>\n",
       "    <tr>\n",
       "      <th>Rescue_and_recovery_effort_after_the_September_11_attacks_on_the_World_Trade_Center</th>\n",
       "      <td>124006</td>\n",
       "      <td>11069</td>\n",
       "      <td>138121</td>\n",
       "      <td>1.662390</td>\n",
       "    </tr>\n",
       "  </tbody>\n",
       "</table>\n",
       "</div>"
      ],
      "text/plain": [
       "                                                    clicks_central  \\\n",
       "curr                                                                 \n",
       "September_11_attacks                                       2799511   \n",
       "Casualties_of_the_September_11_attacks                      772326   \n",
       "Timeline_for_the_day_of_the_September_11_attacks            599876   \n",
       "United_Airlines_Flight_93                                   584705   \n",
       "Rick_Rescorla                                               388323   \n",
       "American_Airlines_Flight_11                                 287207   \n",
       "Collapse_of_the_World_Trade_Center                          278131   \n",
       "The_Falling_Man                                             269971   \n",
       "United_Airlines_Flight_175                                  240384   \n",
       "Rescue_and_recovery_effort_after_the_September_...          124006   \n",
       "\n",
       "                                                    clicks_prev  clicks_next  \\\n",
       "curr                                                                           \n",
       "September_11_attacks                                     409780      3241630   \n",
       "Casualties_of_the_September_11_attacks                    64409       841290   \n",
       "Timeline_for_the_day_of_the_September_11_attacks          21663       630083   \n",
       "United_Airlines_Flight_93                                 68876       658933   \n",
       "Rick_Rescorla                                             73912       404504   \n",
       "American_Airlines_Flight_11                               46131       333964   \n",
       "Collapse_of_the_World_Trade_Center                        29122       313135   \n",
       "The_Falling_Man                                           25890       297978   \n",
       "United_Airlines_Flight_175                                33629       276438   \n",
       "Rescue_and_recovery_effort_after_the_September_...        11069       138121   \n",
       "\n",
       "                                                    spike_ratio  \n",
       "curr                                                             \n",
       "September_11_attacks                                   1.533386  \n",
       "Casualties_of_the_September_11_attacks                 1.705481  \n",
       "Timeline_for_the_day_of_the_September_11_attacks       1.840828  \n",
       "United_Airlines_Flight_93                              1.606754  \n",
       "Rick_Rescorla                                          1.623370  \n",
       "American_Airlines_Flight_11                            1.511238  \n",
       "Collapse_of_the_World_Trade_Center                     1.625276  \n",
       "The_Falling_Man                                        1.667167  \n",
       "United_Airlines_Flight_175                             1.550529  \n",
       "Rescue_and_recovery_effort_after_the_September_...     1.662390  "
      ]
     },
     "metadata": {},
     "output_type": "display_data"
    },
    {
     "data": {
      "text/plain": [
       "2020"
      ]
     },
     "metadata": {},
     "output_type": "display_data"
    },
    {
     "data": {
      "text/html": [
       "<div>\n",
       "<style scoped>\n",
       "    .dataframe tbody tr th:only-of-type {\n",
       "        vertical-align: middle;\n",
       "    }\n",
       "\n",
       "    .dataframe tbody tr th {\n",
       "        vertical-align: top;\n",
       "    }\n",
       "\n",
       "    .dataframe thead th {\n",
       "        text-align: right;\n",
       "    }\n",
       "</style>\n",
       "<table border=\"1\" class=\"dataframe\">\n",
       "  <thead>\n",
       "    <tr style=\"text-align: right;\">\n",
       "      <th></th>\n",
       "      <th>clicks_central</th>\n",
       "      <th>clicks_prev</th>\n",
       "      <th>clicks_next</th>\n",
       "      <th>spike_ratio</th>\n",
       "    </tr>\n",
       "    <tr>\n",
       "      <th>curr</th>\n",
       "      <th></th>\n",
       "      <th></th>\n",
       "      <th></th>\n",
       "      <th></th>\n",
       "    </tr>\n",
       "  </thead>\n",
       "  <tbody>\n",
       "  </tbody>\n",
       "</table>\n",
       "</div>"
      ],
      "text/plain": [
       "Empty DataFrame\n",
       "Columns: [clicks_central, clicks_prev, clicks_next, spike_ratio]\n",
       "Index: []"
      ]
     },
     "metadata": {},
     "output_type": "display_data"
    },
    {
     "data": {
      "text/plain": [
       "2021"
      ]
     },
     "metadata": {},
     "output_type": "display_data"
    },
    {
     "data": {
      "text/html": [
       "<div>\n",
       "<style scoped>\n",
       "    .dataframe tbody tr th:only-of-type {\n",
       "        vertical-align: middle;\n",
       "    }\n",
       "\n",
       "    .dataframe tbody tr th {\n",
       "        vertical-align: top;\n",
       "    }\n",
       "\n",
       "    .dataframe thead th {\n",
       "        text-align: right;\n",
       "    }\n",
       "</style>\n",
       "<table border=\"1\" class=\"dataframe\">\n",
       "  <thead>\n",
       "    <tr style=\"text-align: right;\">\n",
       "      <th></th>\n",
       "      <th>clicks_central</th>\n",
       "      <th>clicks_prev</th>\n",
       "      <th>clicks_next</th>\n",
       "      <th>spike_ratio</th>\n",
       "    </tr>\n",
       "    <tr>\n",
       "      <th>curr</th>\n",
       "      <th></th>\n",
       "      <th></th>\n",
       "      <th></th>\n",
       "      <th></th>\n",
       "    </tr>\n",
       "  </thead>\n",
       "  <tbody>\n",
       "    <tr>\n",
       "      <th>September_11th_Victim_Compensation_Fund</th>\n",
       "      <td>226676</td>\n",
       "      <td>54235</td>\n",
       "      <td>245291</td>\n",
       "      <td>1.513565</td>\n",
       "    </tr>\n",
       "  </tbody>\n",
       "</table>\n",
       "</div>"
      ],
      "text/plain": [
       "                                         clicks_central  clicks_prev  \\\n",
       "curr                                                                   \n",
       "September_11th_Victim_Compensation_Fund          226676        54235   \n",
       "\n",
       "                                         clicks_next  spike_ratio  \n",
       "curr                                                               \n",
       "September_11th_Victim_Compensation_Fund       245291     1.513565  "
      ]
     },
     "metadata": {},
     "output_type": "display_data"
    },
    {
     "data": {
      "text/plain": [
       "2022"
      ]
     },
     "metadata": {},
     "output_type": "display_data"
    },
    {
     "data": {
      "text/html": [
       "<div>\n",
       "<style scoped>\n",
       "    .dataframe tbody tr th:only-of-type {\n",
       "        vertical-align: middle;\n",
       "    }\n",
       "\n",
       "    .dataframe tbody tr th {\n",
       "        vertical-align: top;\n",
       "    }\n",
       "\n",
       "    .dataframe thead th {\n",
       "        text-align: right;\n",
       "    }\n",
       "</style>\n",
       "<table border=\"1\" class=\"dataframe\">\n",
       "  <thead>\n",
       "    <tr style=\"text-align: right;\">\n",
       "      <th></th>\n",
       "      <th>clicks_central</th>\n",
       "      <th>clicks_prev</th>\n",
       "      <th>clicks_next</th>\n",
       "      <th>spike_ratio</th>\n",
       "    </tr>\n",
       "    <tr>\n",
       "      <th>curr</th>\n",
       "      <th></th>\n",
       "      <th></th>\n",
       "      <th></th>\n",
       "      <th></th>\n",
       "    </tr>\n",
       "  </thead>\n",
       "  <tbody>\n",
       "    <tr>\n",
       "      <th>Timeline_for_the_day_of_the_September_11_attacks</th>\n",
       "      <td>142027</td>\n",
       "      <td>21044</td>\n",
       "      <td>157169</td>\n",
       "      <td>1.593902</td>\n",
       "    </tr>\n",
       "    <tr>\n",
       "      <th>September_11</th>\n",
       "      <td>61029</td>\n",
       "      <td>10576</td>\n",
       "      <td>68413</td>\n",
       "      <td>1.545253</td>\n",
       "    </tr>\n",
       "    <tr>\n",
       "      <th>Mychal_Judge</th>\n",
       "      <td>32859</td>\n",
       "      <td>5114</td>\n",
       "      <td>37227</td>\n",
       "      <td>1.552113</td>\n",
       "    </tr>\n",
       "    <tr>\n",
       "      <th>Tribute_in_Light</th>\n",
       "      <td>18814</td>\n",
       "      <td>3214</td>\n",
       "      <td>21274</td>\n",
       "      <td>1.536589</td>\n",
       "    </tr>\n",
       "  </tbody>\n",
       "</table>\n",
       "</div>"
      ],
      "text/plain": [
       "                                                  clicks_central  clicks_prev  \\\n",
       "curr                                                                            \n",
       "Timeline_for_the_day_of_the_September_11_attacks          142027        21044   \n",
       "September_11                                               61029        10576   \n",
       "Mychal_Judge                                               32859         5114   \n",
       "Tribute_in_Light                                           18814         3214   \n",
       "\n",
       "                                                  clicks_next  spike_ratio  \n",
       "curr                                                                        \n",
       "Timeline_for_the_day_of_the_September_11_attacks       157169     1.593902  \n",
       "September_11                                            68413     1.545253  \n",
       "Mychal_Judge                                            37227     1.552113  \n",
       "Tribute_in_Light                                        21274     1.536589  "
      ]
     },
     "metadata": {},
     "output_type": "display_data"
    },
    {
     "data": {
      "text/plain": [
       "2023"
      ]
     },
     "metadata": {},
     "output_type": "display_data"
    },
    {
     "data": {
      "text/html": [
       "<div>\n",
       "<style scoped>\n",
       "    .dataframe tbody tr th:only-of-type {\n",
       "        vertical-align: middle;\n",
       "    }\n",
       "\n",
       "    .dataframe tbody tr th {\n",
       "        vertical-align: top;\n",
       "    }\n",
       "\n",
       "    .dataframe thead th {\n",
       "        text-align: right;\n",
       "    }\n",
       "</style>\n",
       "<table border=\"1\" class=\"dataframe\">\n",
       "  <thead>\n",
       "    <tr style=\"text-align: right;\">\n",
       "      <th></th>\n",
       "      <th>clicks_central</th>\n",
       "      <th>clicks_prev</th>\n",
       "      <th>clicks_next</th>\n",
       "      <th>spike_ratio</th>\n",
       "    </tr>\n",
       "    <tr>\n",
       "      <th>curr</th>\n",
       "      <th></th>\n",
       "      <th></th>\n",
       "      <th></th>\n",
       "      <th></th>\n",
       "    </tr>\n",
       "  </thead>\n",
       "  <tbody>\n",
       "    <tr>\n",
       "      <th>September_11_attacks</th>\n",
       "      <td>1950667</td>\n",
       "      <td>470818</td>\n",
       "      <td>492785</td>\n",
       "      <td>4.048694</td>\n",
       "    </tr>\n",
       "    <tr>\n",
       "      <th>Israel_Adesanya</th>\n",
       "      <td>590606</td>\n",
       "      <td>194202</td>\n",
       "      <td>181586</td>\n",
       "      <td>3.143294</td>\n",
       "    </tr>\n",
       "    <tr>\n",
       "      <th>World_Trade_Center_(1973–2001)</th>\n",
       "      <td>532825</td>\n",
       "      <td>163411</td>\n",
       "      <td>186482</td>\n",
       "      <td>3.045645</td>\n",
       "    </tr>\n",
       "    <tr>\n",
       "      <th>United_Airlines_Flight_93</th>\n",
       "      <td>530003</td>\n",
       "      <td>121397</td>\n",
       "      <td>101727</td>\n",
       "      <td>4.750748</td>\n",
       "    </tr>\n",
       "    <tr>\n",
       "      <th>Osama_bin_Laden</th>\n",
       "      <td>463701</td>\n",
       "      <td>233042</td>\n",
       "      <td>352634</td>\n",
       "      <td>1.583473</td>\n",
       "    </tr>\n",
       "    <tr>\n",
       "      <th>Casualties_of_the_September_11_attacks</th>\n",
       "      <td>388127</td>\n",
       "      <td>67011</td>\n",
       "      <td>83747</td>\n",
       "      <td>5.149007</td>\n",
       "    </tr>\n",
       "    <tr>\n",
       "      <th>American_Airlines_Flight_11</th>\n",
       "      <td>333990</td>\n",
       "      <td>85485</td>\n",
       "      <td>82518</td>\n",
       "      <td>3.976000</td>\n",
       "    </tr>\n",
       "    <tr>\n",
       "      <th>Timeline_for_the_day_of_the_September_11_attacks</th>\n",
       "      <td>298598</td>\n",
       "      <td>27067</td>\n",
       "      <td>22817</td>\n",
       "      <td>11.971694</td>\n",
       "    </tr>\n",
       "    <tr>\n",
       "      <th>Collapse_of_the_World_Trade_Center</th>\n",
       "      <td>275545</td>\n",
       "      <td>52161</td>\n",
       "      <td>56160</td>\n",
       "      <td>5.087564</td>\n",
       "    </tr>\n",
       "    <tr>\n",
       "      <th>One_World_Trade_Center</th>\n",
       "      <td>267221</td>\n",
       "      <td>114110</td>\n",
       "      <td>123860</td>\n",
       "      <td>2.245838</td>\n",
       "    </tr>\n",
       "  </tbody>\n",
       "</table>\n",
       "</div>"
      ],
      "text/plain": [
       "                                                  clicks_central  clicks_prev  \\\n",
       "curr                                                                            \n",
       "September_11_attacks                                     1950667       470818   \n",
       "Israel_Adesanya                                           590606       194202   \n",
       "World_Trade_Center_(1973–2001)                            532825       163411   \n",
       "United_Airlines_Flight_93                                 530003       121397   \n",
       "Osama_bin_Laden                                           463701       233042   \n",
       "Casualties_of_the_September_11_attacks                    388127        67011   \n",
       "American_Airlines_Flight_11                               333990        85485   \n",
       "Timeline_for_the_day_of_the_September_11_attacks          298598        27067   \n",
       "Collapse_of_the_World_Trade_Center                        275545        52161   \n",
       "One_World_Trade_Center                                    267221       114110   \n",
       "\n",
       "                                                  clicks_next  spike_ratio  \n",
       "curr                                                                        \n",
       "September_11_attacks                                   492785     4.048694  \n",
       "Israel_Adesanya                                        181586     3.143294  \n",
       "World_Trade_Center_(1973–2001)                         186482     3.045645  \n",
       "United_Airlines_Flight_93                              101727     4.750748  \n",
       "Osama_bin_Laden                                        352634     1.583473  \n",
       "Casualties_of_the_September_11_attacks                  83747     5.149007  \n",
       "American_Airlines_Flight_11                             82518     3.976000  \n",
       "Timeline_for_the_day_of_the_September_11_attacks        22817    11.971694  \n",
       "Collapse_of_the_World_Trade_Center                      56160     5.087564  \n",
       "One_World_Trade_Center                                 123860     2.245838  "
      ]
     },
     "metadata": {},
     "output_type": "display_data"
    }
   ],
   "source": [
    "# first pass\n",
    "years = [2019, 2020, 2021, 2022, 2023]\n",
    "\n",
    "page = 'World_Trade_Center_(1973–2001)'\n",
    "\n",
    "for year in years:\n",
    "    aug = pd.read_csv(f'./spikes/{year}/august{year}.csv')\n",
    "    sept = pd.read_csv(f'./spikes/{year}/september{year}.csv')\n",
    "    octo = pd.read_csv(f'./spikes/{year}/october{year}.csv')\n",
    "    display(year, get_max_spike_page(page=page, central_df=sept, prev_month_df=aug, next_month_df=octo))"
   ]
  },
  {
   "cell_type": "code",
   "execution_count": 6,
   "metadata": {},
   "outputs": [
    {
     "data": {
      "text/plain": [
       "2019"
      ]
     },
     "metadata": {},
     "output_type": "display_data"
    },
    {
     "data": {
      "text/html": [
       "<div>\n",
       "<style scoped>\n",
       "    .dataframe tbody tr th:only-of-type {\n",
       "        vertical-align: middle;\n",
       "    }\n",
       "\n",
       "    .dataframe tbody tr th {\n",
       "        vertical-align: top;\n",
       "    }\n",
       "\n",
       "    .dataframe thead th {\n",
       "        text-align: right;\n",
       "    }\n",
       "</style>\n",
       "<table border=\"1\" class=\"dataframe\">\n",
       "  <thead>\n",
       "    <tr style=\"text-align: right;\">\n",
       "      <th></th>\n",
       "      <th>clicks_central</th>\n",
       "      <th>clicks_prev</th>\n",
       "      <th>clicks_next</th>\n",
       "      <th>spike_ratio</th>\n",
       "    </tr>\n",
       "    <tr>\n",
       "      <th>curr</th>\n",
       "      <th></th>\n",
       "      <th></th>\n",
       "      <th></th>\n",
       "      <th></th>\n",
       "    </tr>\n",
       "  </thead>\n",
       "  <tbody>\n",
       "    <tr>\n",
       "      <th>September_11_attacks</th>\n",
       "      <td>2799511</td>\n",
       "      <td>409780.0</td>\n",
       "      <td>3241630</td>\n",
       "      <td>1.533386</td>\n",
       "    </tr>\n",
       "    <tr>\n",
       "      <th>Casualties_of_the_September_11_attacks</th>\n",
       "      <td>772326</td>\n",
       "      <td>64409.0</td>\n",
       "      <td>841290</td>\n",
       "      <td>1.705481</td>\n",
       "    </tr>\n",
       "    <tr>\n",
       "      <th>Timeline_for_the_day_of_the_September_11_attacks</th>\n",
       "      <td>599876</td>\n",
       "      <td>21663.0</td>\n",
       "      <td>630083</td>\n",
       "      <td>1.840828</td>\n",
       "    </tr>\n",
       "    <tr>\n",
       "      <th>United_Airlines_Flight_93</th>\n",
       "      <td>584705</td>\n",
       "      <td>68876.0</td>\n",
       "      <td>658933</td>\n",
       "      <td>1.606754</td>\n",
       "    </tr>\n",
       "    <tr>\n",
       "      <th>Rick_Rescorla</th>\n",
       "      <td>388323</td>\n",
       "      <td>73912.0</td>\n",
       "      <td>404504</td>\n",
       "      <td>1.623370</td>\n",
       "    </tr>\n",
       "    <tr>\n",
       "      <th>Hijackers_in_the_September_11_attacks</th>\n",
       "      <td>296783</td>\n",
       "      <td>39478.0</td>\n",
       "      <td>343573</td>\n",
       "      <td>1.549574</td>\n",
       "    </tr>\n",
       "    <tr>\n",
       "      <th>American_Airlines_Flight_11</th>\n",
       "      <td>287207</td>\n",
       "      <td>46131.0</td>\n",
       "      <td>333964</td>\n",
       "      <td>1.511238</td>\n",
       "    </tr>\n",
       "    <tr>\n",
       "      <th>Collapse_of_the_World_Trade_Center</th>\n",
       "      <td>278131</td>\n",
       "      <td>29122.0</td>\n",
       "      <td>313135</td>\n",
       "      <td>1.625276</td>\n",
       "    </tr>\n",
       "    <tr>\n",
       "      <th>The_Falling_Man</th>\n",
       "      <td>269971</td>\n",
       "      <td>25890.0</td>\n",
       "      <td>297978</td>\n",
       "      <td>1.667167</td>\n",
       "    </tr>\n",
       "    <tr>\n",
       "      <th>United_Airlines_Flight_175</th>\n",
       "      <td>240384</td>\n",
       "      <td>33629.0</td>\n",
       "      <td>276438</td>\n",
       "      <td>1.550529</td>\n",
       "    </tr>\n",
       "  </tbody>\n",
       "</table>\n",
       "</div>"
      ],
      "text/plain": [
       "                                                  clicks_central  clicks_prev  \\\n",
       "curr                                                                            \n",
       "September_11_attacks                                     2799511     409780.0   \n",
       "Casualties_of_the_September_11_attacks                    772326      64409.0   \n",
       "Timeline_for_the_day_of_the_September_11_attacks          599876      21663.0   \n",
       "United_Airlines_Flight_93                                 584705      68876.0   \n",
       "Rick_Rescorla                                             388323      73912.0   \n",
       "Hijackers_in_the_September_11_attacks                     296783      39478.0   \n",
       "American_Airlines_Flight_11                               287207      46131.0   \n",
       "Collapse_of_the_World_Trade_Center                        278131      29122.0   \n",
       "The_Falling_Man                                           269971      25890.0   \n",
       "United_Airlines_Flight_175                                240384      33629.0   \n",
       "\n",
       "                                                  clicks_next  spike_ratio  \n",
       "curr                                                                        \n",
       "September_11_attacks                                  3241630     1.533386  \n",
       "Casualties_of_the_September_11_attacks                 841290     1.705481  \n",
       "Timeline_for_the_day_of_the_September_11_attacks       630083     1.840828  \n",
       "United_Airlines_Flight_93                              658933     1.606754  \n",
       "Rick_Rescorla                                          404504     1.623370  \n",
       "Hijackers_in_the_September_11_attacks                  343573     1.549574  \n",
       "American_Airlines_Flight_11                            333964     1.511238  \n",
       "Collapse_of_the_World_Trade_Center                     313135     1.625276  \n",
       "The_Falling_Man                                        297978     1.667167  \n",
       "United_Airlines_Flight_175                             276438     1.550529  "
      ]
     },
     "metadata": {},
     "output_type": "display_data"
    },
    {
     "data": {
      "text/plain": [
       "2021"
      ]
     },
     "metadata": {},
     "output_type": "display_data"
    },
    {
     "data": {
      "text/html": [
       "<div>\n",
       "<style scoped>\n",
       "    .dataframe tbody tr th:only-of-type {\n",
       "        vertical-align: middle;\n",
       "    }\n",
       "\n",
       "    .dataframe tbody tr th {\n",
       "        vertical-align: top;\n",
       "    }\n",
       "\n",
       "    .dataframe thead th {\n",
       "        text-align: right;\n",
       "    }\n",
       "</style>\n",
       "<table border=\"1\" class=\"dataframe\">\n",
       "  <thead>\n",
       "    <tr style=\"text-align: right;\">\n",
       "      <th></th>\n",
       "      <th>clicks_central</th>\n",
       "      <th>clicks_prev</th>\n",
       "      <th>clicks_next</th>\n",
       "      <th>spike_ratio</th>\n",
       "    </tr>\n",
       "    <tr>\n",
       "      <th>curr</th>\n",
       "      <th></th>\n",
       "      <th></th>\n",
       "      <th></th>\n",
       "      <th></th>\n",
       "    </tr>\n",
       "  </thead>\n",
       "  <tbody>\n",
       "    <tr>\n",
       "      <th>Worth_(film)</th>\n",
       "      <td>411252</td>\n",
       "      <td>54596</td>\n",
       "      <td>463510</td>\n",
       "      <td>1.587521</td>\n",
       "    </tr>\n",
       "    <tr>\n",
       "      <th>Kenneth_Feinberg</th>\n",
       "      <td>399966</td>\n",
       "      <td>36561</td>\n",
       "      <td>442841</td>\n",
       "      <td>1.668604</td>\n",
       "    </tr>\n",
       "    <tr>\n",
       "      <th>September_11th_Victim_Compensation_Fund</th>\n",
       "      <td>226676</td>\n",
       "      <td>54235</td>\n",
       "      <td>245291</td>\n",
       "      <td>1.513565</td>\n",
       "    </tr>\n",
       "  </tbody>\n",
       "</table>\n",
       "</div>"
      ],
      "text/plain": [
       "                                         clicks_central  clicks_prev  \\\n",
       "curr                                                                   \n",
       "Worth_(film)                                     411252        54596   \n",
       "Kenneth_Feinberg                                 399966        36561   \n",
       "September_11th_Victim_Compensation_Fund          226676        54235   \n",
       "\n",
       "                                         clicks_next  spike_ratio  \n",
       "curr                                                               \n",
       "Worth_(film)                                  463510     1.587521  \n",
       "Kenneth_Feinberg                              442841     1.668604  \n",
       "September_11th_Victim_Compensation_Fund       245291     1.513565  "
      ]
     },
     "metadata": {},
     "output_type": "display_data"
    },
    {
     "data": {
      "text/plain": [
       "2022"
      ]
     },
     "metadata": {},
     "output_type": "display_data"
    },
    {
     "data": {
      "text/html": [
       "<div>\n",
       "<style scoped>\n",
       "    .dataframe tbody tr th:only-of-type {\n",
       "        vertical-align: middle;\n",
       "    }\n",
       "\n",
       "    .dataframe tbody tr th {\n",
       "        vertical-align: top;\n",
       "    }\n",
       "\n",
       "    .dataframe thead th {\n",
       "        text-align: right;\n",
       "    }\n",
       "</style>\n",
       "<table border=\"1\" class=\"dataframe\">\n",
       "  <thead>\n",
       "    <tr style=\"text-align: right;\">\n",
       "      <th></th>\n",
       "      <th>clicks_central</th>\n",
       "      <th>clicks_prev</th>\n",
       "      <th>clicks_next</th>\n",
       "      <th>spike_ratio</th>\n",
       "    </tr>\n",
       "    <tr>\n",
       "      <th>curr</th>\n",
       "      <th></th>\n",
       "      <th></th>\n",
       "      <th></th>\n",
       "      <th></th>\n",
       "    </tr>\n",
       "  </thead>\n",
       "  <tbody>\n",
       "    <tr>\n",
       "      <th>Timeline_for_the_day_of_the_September_11_attacks</th>\n",
       "      <td>142027</td>\n",
       "      <td>21044</td>\n",
       "      <td>157169</td>\n",
       "      <td>1.593902</td>\n",
       "    </tr>\n",
       "    <tr>\n",
       "      <th>Mychal_Judge</th>\n",
       "      <td>32859</td>\n",
       "      <td>5114</td>\n",
       "      <td>37227</td>\n",
       "      <td>1.552113</td>\n",
       "    </tr>\n",
       "    <tr>\n",
       "      <th>Orio_Palmer</th>\n",
       "      <td>25774</td>\n",
       "      <td>4415</td>\n",
       "      <td>29565</td>\n",
       "      <td>1.517010</td>\n",
       "    </tr>\n",
       "  </tbody>\n",
       "</table>\n",
       "</div>"
      ],
      "text/plain": [
       "                                                  clicks_central  clicks_prev  \\\n",
       "curr                                                                            \n",
       "Timeline_for_the_day_of_the_September_11_attacks          142027        21044   \n",
       "Mychal_Judge                                               32859         5114   \n",
       "Orio_Palmer                                                25774         4415   \n",
       "\n",
       "                                                  clicks_next  spike_ratio  \n",
       "curr                                                                        \n",
       "Timeline_for_the_day_of_the_September_11_attacks       157169     1.593902  \n",
       "Mychal_Judge                                            37227     1.552113  \n",
       "Orio_Palmer                                             29565     1.517010  "
      ]
     },
     "metadata": {},
     "output_type": "display_data"
    },
    {
     "data": {
      "text/plain": [
       "2023"
      ]
     },
     "metadata": {},
     "output_type": "display_data"
    },
    {
     "data": {
      "text/html": [
       "<div>\n",
       "<style scoped>\n",
       "    .dataframe tbody tr th:only-of-type {\n",
       "        vertical-align: middle;\n",
       "    }\n",
       "\n",
       "    .dataframe tbody tr th {\n",
       "        vertical-align: top;\n",
       "    }\n",
       "\n",
       "    .dataframe thead th {\n",
       "        text-align: right;\n",
       "    }\n",
       "</style>\n",
       "<table border=\"1\" class=\"dataframe\">\n",
       "  <thead>\n",
       "    <tr style=\"text-align: right;\">\n",
       "      <th></th>\n",
       "      <th>clicks_central</th>\n",
       "      <th>clicks_prev</th>\n",
       "      <th>clicks_next</th>\n",
       "      <th>spike_ratio</th>\n",
       "    </tr>\n",
       "    <tr>\n",
       "      <th>curr</th>\n",
       "      <th></th>\n",
       "      <th></th>\n",
       "      <th></th>\n",
       "      <th></th>\n",
       "    </tr>\n",
       "  </thead>\n",
       "  <tbody>\n",
       "    <tr>\n",
       "      <th>September_11_attacks</th>\n",
       "      <td>1950667</td>\n",
       "      <td>470818.0</td>\n",
       "      <td>492785</td>\n",
       "      <td>4.048694</td>\n",
       "    </tr>\n",
       "    <tr>\n",
       "      <th>Dianne_Feinstein</th>\n",
       "      <td>1175875</td>\n",
       "      <td>259820.0</td>\n",
       "      <td>515358</td>\n",
       "      <td>3.033819</td>\n",
       "    </tr>\n",
       "    <tr>\n",
       "      <th>Aaron_Rodgers</th>\n",
       "      <td>931974</td>\n",
       "      <td>417795.0</td>\n",
       "      <td>262737</td>\n",
       "      <td>2.738957</td>\n",
       "    </tr>\n",
       "    <tr>\n",
       "      <th>Mark_Wahlberg</th>\n",
       "      <td>584859</td>\n",
       "      <td>341908.0</td>\n",
       "      <td>300941</td>\n",
       "      <td>1.819584</td>\n",
       "    </tr>\n",
       "    <tr>\n",
       "      <th>World_Trade_Center_(1973–2001)</th>\n",
       "      <td>532825</td>\n",
       "      <td>163411.0</td>\n",
       "      <td>186482</td>\n",
       "      <td>3.045645</td>\n",
       "    </tr>\n",
       "    <tr>\n",
       "      <th>United_Airlines_Flight_93</th>\n",
       "      <td>530003</td>\n",
       "      <td>121397.0</td>\n",
       "      <td>101727</td>\n",
       "      <td>4.750748</td>\n",
       "    </tr>\n",
       "    <tr>\n",
       "      <th>Osama_bin_Laden</th>\n",
       "      <td>463701</td>\n",
       "      <td>233042.0</td>\n",
       "      <td>352634</td>\n",
       "      <td>1.583473</td>\n",
       "    </tr>\n",
       "    <tr>\n",
       "      <th>Casualties_of_the_September_11_attacks</th>\n",
       "      <td>388127</td>\n",
       "      <td>67011.0</td>\n",
       "      <td>83747</td>\n",
       "      <td>5.149007</td>\n",
       "    </tr>\n",
       "    <tr>\n",
       "      <th>Ryder_Cup</th>\n",
       "      <td>384310</td>\n",
       "      <td>74501.0</td>\n",
       "      <td>250393</td>\n",
       "      <td>2.365756</td>\n",
       "    </tr>\n",
       "    <tr>\n",
       "      <th>American_Airlines_Flight_11</th>\n",
       "      <td>333990</td>\n",
       "      <td>85485.0</td>\n",
       "      <td>82518</td>\n",
       "      <td>3.976000</td>\n",
       "    </tr>\n",
       "  </tbody>\n",
       "</table>\n",
       "</div>"
      ],
      "text/plain": [
       "                                        clicks_central  clicks_prev  \\\n",
       "curr                                                                  \n",
       "September_11_attacks                           1950667     470818.0   \n",
       "Dianne_Feinstein                               1175875     259820.0   \n",
       "Aaron_Rodgers                                   931974     417795.0   \n",
       "Mark_Wahlberg                                   584859     341908.0   \n",
       "World_Trade_Center_(1973–2001)                  532825     163411.0   \n",
       "United_Airlines_Flight_93                       530003     121397.0   \n",
       "Osama_bin_Laden                                 463701     233042.0   \n",
       "Casualties_of_the_September_11_attacks          388127      67011.0   \n",
       "Ryder_Cup                                       384310      74501.0   \n",
       "American_Airlines_Flight_11                     333990      85485.0   \n",
       "\n",
       "                                        clicks_next  spike_ratio  \n",
       "curr                                                              \n",
       "September_11_attacks                         492785     4.048694  \n",
       "Dianne_Feinstein                             515358     3.033819  \n",
       "Aaron_Rodgers                                262737     2.738957  \n",
       "Mark_Wahlberg                                300941     1.819584  \n",
       "World_Trade_Center_(1973–2001)               186482     3.045645  \n",
       "United_Airlines_Flight_93                    101727     4.750748  \n",
       "Osama_bin_Laden                              352634     1.583473  \n",
       "Casualties_of_the_September_11_attacks        83747     5.149007  \n",
       "Ryder_Cup                                    250393     2.365756  \n",
       "American_Airlines_Flight_11                   82518     3.976000  "
      ]
     },
     "metadata": {},
     "output_type": "display_data"
    }
   ],
   "source": [
    "# second pass\n",
    "years = [2019, 2021, 2022, 2023]\n",
    "\n",
    "pages = ['September_11_attacks','September_11th_Victim_Compensation_Fund','Timeline_for_the_day_of_the_September_11_attacks','September_11_attacks']\n",
    "\n",
    "for idx, year in enumerate(years):\n",
    "    aug = pd.read_csv(f'./spikes/{year}/august{year}.csv')\n",
    "    sept = pd.read_csv(f'./spikes/{year}/september{year}.csv')\n",
    "    octo = pd.read_csv(f'./spikes/{year}/october{year}.csv')\n",
    "    display(year, get_max_spike_page(page=pages[idx], central_df=sept, prev_month_df=aug, next_month_df=octo))"
   ]
  },
  {
   "cell_type": "code",
   "execution_count": 7,
   "metadata": {},
   "outputs": [
    {
     "data": {
      "text/plain": [
       "2021"
      ]
     },
     "metadata": {},
     "output_type": "display_data"
    },
    {
     "data": {
      "text/html": [
       "<div>\n",
       "<style scoped>\n",
       "    .dataframe tbody tr th:only-of-type {\n",
       "        vertical-align: middle;\n",
       "    }\n",
       "\n",
       "    .dataframe tbody tr th {\n",
       "        vertical-align: top;\n",
       "    }\n",
       "\n",
       "    .dataframe thead th {\n",
       "        text-align: right;\n",
       "    }\n",
       "</style>\n",
       "<table border=\"1\" class=\"dataframe\">\n",
       "  <thead>\n",
       "    <tr style=\"text-align: right;\">\n",
       "      <th></th>\n",
       "      <th>clicks_central</th>\n",
       "      <th>clicks_prev</th>\n",
       "      <th>clicks_next</th>\n",
       "      <th>spike_ratio</th>\n",
       "    </tr>\n",
       "    <tr>\n",
       "      <th>curr</th>\n",
       "      <th></th>\n",
       "      <th></th>\n",
       "      <th></th>\n",
       "      <th></th>\n",
       "    </tr>\n",
       "  </thead>\n",
       "  <tbody>\n",
       "    <tr>\n",
       "      <th>Worth_(film)</th>\n",
       "      <td>411252</td>\n",
       "      <td>54596</td>\n",
       "      <td>463510</td>\n",
       "      <td>1.587521</td>\n",
       "    </tr>\n",
       "    <tr>\n",
       "      <th>Kenneth_Feinberg</th>\n",
       "      <td>399966</td>\n",
       "      <td>36561</td>\n",
       "      <td>442841</td>\n",
       "      <td>1.668604</td>\n",
       "    </tr>\n",
       "    <tr>\n",
       "      <th>September_11th_Victim_Compensation_Fund</th>\n",
       "      <td>226676</td>\n",
       "      <td>54235</td>\n",
       "      <td>245291</td>\n",
       "      <td>1.513565</td>\n",
       "    </tr>\n",
       "  </tbody>\n",
       "</table>\n",
       "</div>"
      ],
      "text/plain": [
       "                                         clicks_central  clicks_prev  \\\n",
       "curr                                                                   \n",
       "Worth_(film)                                     411252        54596   \n",
       "Kenneth_Feinberg                                 399966        36561   \n",
       "September_11th_Victim_Compensation_Fund          226676        54235   \n",
       "\n",
       "                                         clicks_next  spike_ratio  \n",
       "curr                                                               \n",
       "Worth_(film)                                  463510     1.587521  \n",
       "Kenneth_Feinberg                              442841     1.668604  \n",
       "September_11th_Victim_Compensation_Fund       245291     1.513565  "
      ]
     },
     "metadata": {},
     "output_type": "display_data"
    }
   ],
   "source": [
    "# second pass\n",
    "years = [2021]\n",
    "\n",
    "pages = ['Worth_(film)']\n",
    "\n",
    "for idx, year in enumerate(years):\n",
    "    aug = pd.read_csv(f'./spikes/{year}/august{year}.csv')\n",
    "    sept = pd.read_csv(f'./spikes/{year}/september{year}.csv')\n",
    "    octo = pd.read_csv(f'./spikes/{year}/october{year}.csv')\n",
    "    display(year, get_max_spike_page(page=pages[idx], central_df=sept, prev_month_df=aug, next_month_df=octo))"
   ]
  },
  {
   "cell_type": "code",
   "execution_count": 8,
   "metadata": {},
   "outputs": [
    {
     "data": {
      "text/plain": [
       "2019"
      ]
     },
     "metadata": {},
     "output_type": "display_data"
    },
    {
     "data": {
      "text/plain": [
       "[31]"
      ]
     },
     "metadata": {},
     "output_type": "display_data"
    },
    {
     "data": {
      "text/plain": [
       "2019"
      ]
     },
     "metadata": {},
     "output_type": "display_data"
    },
    {
     "data": {
      "text/plain": [
       "[31, 961]"
      ]
     },
     "metadata": {},
     "output_type": "display_data"
    },
    {
     "data": {
      "text/plain": [
       "2019"
      ]
     },
     "metadata": {},
     "output_type": "display_data"
    },
    {
     "data": {
      "text/plain": [
       "[31, 961, 0]"
      ]
     },
     "metadata": {},
     "output_type": "display_data"
    },
    {
     "data": {
      "text/plain": [
       "2020"
      ]
     },
     "metadata": {},
     "output_type": "display_data"
    },
    {
     "data": {
      "text/plain": [
       "[0]"
      ]
     },
     "metadata": {},
     "output_type": "display_data"
    },
    {
     "data": {
      "text/plain": [
       "2021"
      ]
     },
     "metadata": {},
     "output_type": "display_data"
    },
    {
     "data": {
      "text/plain": [
       "[3]"
      ]
     },
     "metadata": {},
     "output_type": "display_data"
    },
    {
     "data": {
      "text/plain": [
       "2021"
      ]
     },
     "metadata": {},
     "output_type": "display_data"
    },
    {
     "data": {
      "text/plain": [
       "[3, 9]"
      ]
     },
     "metadata": {},
     "output_type": "display_data"
    },
    {
     "data": {
      "text/plain": [
       "2021"
      ]
     },
     "metadata": {},
     "output_type": "display_data"
    },
    {
     "data": {
      "text/plain": [
       "[3, 9, 0]"
      ]
     },
     "metadata": {},
     "output_type": "display_data"
    },
    {
     "data": {
      "text/plain": [
       "2022"
      ]
     },
     "metadata": {},
     "output_type": "display_data"
    },
    {
     "data": {
      "text/plain": [
       "[1]"
      ]
     },
     "metadata": {},
     "output_type": "display_data"
    },
    {
     "data": {
      "text/plain": [
       "2022"
      ]
     },
     "metadata": {},
     "output_type": "display_data"
    },
    {
     "data": {
      "text/plain": [
       "[1, 1]"
      ]
     },
     "metadata": {},
     "output_type": "display_data"
    },
    {
     "data": {
      "text/plain": [
       "2022"
      ]
     },
     "metadata": {},
     "output_type": "display_data"
    },
    {
     "data": {
      "text/plain": [
       "[1, 1, 0]"
      ]
     },
     "metadata": {},
     "output_type": "display_data"
    },
    {
     "data": {
      "text/plain": [
       "2023"
      ]
     },
     "metadata": {},
     "output_type": "display_data"
    },
    {
     "data": {
      "text/plain": [
       "[194]"
      ]
     },
     "metadata": {},
     "output_type": "display_data"
    },
    {
     "data": {
      "text/plain": [
       "2023"
      ]
     },
     "metadata": {},
     "output_type": "display_data"
    },
    {
     "data": {
      "text/plain": [
       "[194, 37636]"
      ]
     },
     "metadata": {},
     "output_type": "display_data"
    },
    {
     "data": {
      "text/plain": [
       "2023"
      ]
     },
     "metadata": {},
     "output_type": "display_data"
    },
    {
     "data": {
      "text/plain": [
       "[194, 37636, 0]"
      ]
     },
     "metadata": {},
     "output_type": "display_data"
    }
   ],
   "source": [
    "page = 'September_11_attacks'\n",
    "\n",
    "years = [2019, 2020, 2021, 2022, 2023]\n",
    "\n",
    "for year in years:\n",
    "    page_store = set()\n",
    "    aug = pd.read_csv(f'./spikes/{year}/august{year}.csv')\n",
    "    sept = pd.read_csv(f'./spikes/{year}/september{year}.csv')\n",
    "    octo = pd.read_csv(f'./spikes/{year}/october{year}.csv')\n",
    "    def get_spiked_pages(page, central_df, prev_month_df, next_month_df):\n",
    "        pages_to_check = set([*central_df[(central_df['prev']==page) & (central_df['clicks']>=100)]['curr'].values,\n",
    "                            #*central_df[(central_df['curr']==page) & (central_df['clicks']>=100)]['prev'].values,\n",
    "                            *prev_month_df[(prev_month_df['prev']==page) & (prev_month_df['clicks']>=100)]['curr'].values,\n",
    "                            #*prev_month_df[(prev_month_df['curr']==page) & (prev_month_df['clicks']>=100)]['prev'].values,\n",
    "                            *next_month_df[(next_month_df['prev']==page) & (next_month_df['clicks']>=100)]['curr'].values,\n",
    "                            #*next_month_df[(next_month_df['curr']==page) & (next_month_df['clicks']>=100)]['prev'].values,\n",
    "                            #page\n",
    "                            ])\n",
    "        inflow_prev = prev_month_df[prev_month_df['type']=='link'].groupby('curr')[['clicks']].agg(sum)\n",
    "        inflow_central = central_df[central_df['type']=='link'].groupby('curr')[['clicks']].agg(sum)\n",
    "        inflow_next = next_month_df[next_month_df['type']=='link'].groupby('curr')[['clicks']].agg(sum)\n",
    "\n",
    "        inflow_prev = inflow_prev[inflow_prev.index.isin(pages_to_check)]\n",
    "        inflow_central = inflow_central[inflow_central.index.isin(pages_to_check)]\n",
    "        inflow_next = inflow_next[inflow_next.index.isin(pages_to_check)]\n",
    "\n",
    "        merged = inflow_central.join(inflow_prev, lsuffix='_central', rsuffix='_prev')\n",
    "        merged = merged.join(inflow_next, rsuffix='_next')\n",
    "        merged['clicks_next'] = merged['clicks']\n",
    "        merged=merged.drop('clicks',axis=1)\n",
    "        merged['spike_ratio'] = (2*merged['clicks_central'])/(merged['clicks_prev']+merged['clicks_next'])\n",
    "        next_step_pages = merged[merged['spike_ratio']>1.5].sort_values('clicks_central', ascending=False)\n",
    "        return next_step_pages.index.values\n",
    "\n",
    "    queue = [page]\n",
    "    visited_pages = set()\n",
    "    page_store.add(page)\n",
    "\n",
    "    level_size = 1\n",
    "    next_level_size = 0\n",
    "\n",
    "    spike_level_nums = []\n",
    "\n",
    "    while len(queue)!=0:\n",
    "        node = queue.pop(0)\n",
    "        level_size-=1\n",
    "        if node not in visited_pages:\n",
    "            new_pages = get_spiked_pages(page, central_df=sept, prev_month_df=aug, next_month_df=octo)\n",
    "            next_level_size += len(new_pages)\n",
    "            queue.extend(new_pages)\n",
    "            visited_pages.add(node)\n",
    "            page_store.update(new_pages)\n",
    "        if level_size==0:\n",
    "            spike_level_nums.append(next_level_size)\n",
    "            display(year, spike_level_nums)\n",
    "            level_size = next_level_size\n",
    "            next_level_size = 0\n",
    "    with open(f'./spikes/{year}/spiked_nodes.pkl', 'wb') as f:\n",
    "        pickle.dump(page_store, f, protocol=pickle.HIGHEST_PROTOCOL)"
   ]
  },
  {
   "cell_type": "code",
   "execution_count": 10,
   "metadata": {},
   "outputs": [
    {
     "data": {
      "text/plain": [
       "2022"
      ]
     },
     "metadata": {},
     "output_type": "display_data"
    },
    {
     "data": {
      "text/plain": [
       "[123]"
      ]
     },
     "metadata": {},
     "output_type": "display_data"
    },
    {
     "data": {
      "text/plain": [
       "2022"
      ]
     },
     "metadata": {},
     "output_type": "display_data"
    },
    {
     "data": {
      "text/plain": [
       "[123, 15129]"
      ]
     },
     "metadata": {},
     "output_type": "display_data"
    },
    {
     "data": {
      "text/plain": [
       "2022"
      ]
     },
     "metadata": {},
     "output_type": "display_data"
    },
    {
     "data": {
      "text/plain": [
       "[123, 15129, 0]"
      ]
     },
     "metadata": {},
     "output_type": "display_data"
    },
    {
     "ename": "ParserError",
     "evalue": "Error tokenizing data. C error: Calling read(nbytes) on source failed. Try engine='python'.",
     "output_type": "error",
     "traceback": [
      "\u001b[1;31m---------------------------------------------------------------------------\u001b[0m",
      "\u001b[1;31mParserError\u001b[0m                               Traceback (most recent call last)",
      "Cell \u001b[1;32mIn[10], line 8\u001b[0m\n\u001b[0;32m      6\u001b[0m page \u001b[38;5;241m=\u001b[39m pages[idx]\n\u001b[0;32m      7\u001b[0m aug \u001b[38;5;241m=\u001b[39m pd\u001b[38;5;241m.\u001b[39mread_csv(\u001b[38;5;124mf\u001b[39m\u001b[38;5;124m'\u001b[39m\u001b[38;5;124m./spikes/\u001b[39m\u001b[38;5;132;01m{\u001b[39;00myear\u001b[38;5;132;01m}\u001b[39;00m\u001b[38;5;124m/august\u001b[39m\u001b[38;5;132;01m{\u001b[39;00myear\u001b[38;5;132;01m}\u001b[39;00m\u001b[38;5;124m.csv\u001b[39m\u001b[38;5;124m'\u001b[39m)\n\u001b[1;32m----> 8\u001b[0m sept \u001b[38;5;241m=\u001b[39m \u001b[43mpd\u001b[49m\u001b[38;5;241;43m.\u001b[39;49m\u001b[43mread_csv\u001b[49m\u001b[43m(\u001b[49m\u001b[38;5;124;43mf\u001b[39;49m\u001b[38;5;124;43m'\u001b[39;49m\u001b[38;5;124;43m./spikes/\u001b[39;49m\u001b[38;5;132;43;01m{\u001b[39;49;00m\u001b[43myear\u001b[49m\u001b[38;5;132;43;01m}\u001b[39;49;00m\u001b[38;5;124;43m/september\u001b[39;49m\u001b[38;5;132;43;01m{\u001b[39;49;00m\u001b[43myear\u001b[49m\u001b[38;5;132;43;01m}\u001b[39;49;00m\u001b[38;5;124;43m.csv\u001b[39;49m\u001b[38;5;124;43m'\u001b[39;49m\u001b[43m)\u001b[49m\n\u001b[0;32m      9\u001b[0m octo \u001b[38;5;241m=\u001b[39m pd\u001b[38;5;241m.\u001b[39mread_csv(\u001b[38;5;124mf\u001b[39m\u001b[38;5;124m'\u001b[39m\u001b[38;5;124m./spikes/\u001b[39m\u001b[38;5;132;01m{\u001b[39;00myear\u001b[38;5;132;01m}\u001b[39;00m\u001b[38;5;124m/october\u001b[39m\u001b[38;5;132;01m{\u001b[39;00myear\u001b[38;5;132;01m}\u001b[39;00m\u001b[38;5;124m.csv\u001b[39m\u001b[38;5;124m'\u001b[39m)\n\u001b[0;32m     10\u001b[0m \u001b[38;5;28;01mdef\u001b[39;00m \u001b[38;5;21mget_spiked_pages\u001b[39m(page, central_df, prev_month_df, next_month_df):\n",
      "File \u001b[1;32mc:\\Users\\prith\\.pyenv\\pyenv-win\\versions\\3.11.2\\Lib\\site-packages\\pandas\\io\\parsers\\readers.py:912\u001b[0m, in \u001b[0;36mread_csv\u001b[1;34m(filepath_or_buffer, sep, delimiter, header, names, index_col, usecols, dtype, engine, converters, true_values, false_values, skipinitialspace, skiprows, skipfooter, nrows, na_values, keep_default_na, na_filter, verbose, skip_blank_lines, parse_dates, infer_datetime_format, keep_date_col, date_parser, date_format, dayfirst, cache_dates, iterator, chunksize, compression, thousands, decimal, lineterminator, quotechar, quoting, doublequote, escapechar, comment, encoding, encoding_errors, dialect, on_bad_lines, delim_whitespace, low_memory, memory_map, float_precision, storage_options, dtype_backend)\u001b[0m\n\u001b[0;32m    899\u001b[0m kwds_defaults \u001b[38;5;241m=\u001b[39m _refine_defaults_read(\n\u001b[0;32m    900\u001b[0m     dialect,\n\u001b[0;32m    901\u001b[0m     delimiter,\n\u001b[1;32m   (...)\u001b[0m\n\u001b[0;32m    908\u001b[0m     dtype_backend\u001b[38;5;241m=\u001b[39mdtype_backend,\n\u001b[0;32m    909\u001b[0m )\n\u001b[0;32m    910\u001b[0m kwds\u001b[38;5;241m.\u001b[39mupdate(kwds_defaults)\n\u001b[1;32m--> 912\u001b[0m \u001b[38;5;28;01mreturn\u001b[39;00m \u001b[43m_read\u001b[49m\u001b[43m(\u001b[49m\u001b[43mfilepath_or_buffer\u001b[49m\u001b[43m,\u001b[49m\u001b[43m \u001b[49m\u001b[43mkwds\u001b[49m\u001b[43m)\u001b[49m\n",
      "File \u001b[1;32mc:\\Users\\prith\\.pyenv\\pyenv-win\\versions\\3.11.2\\Lib\\site-packages\\pandas\\io\\parsers\\readers.py:583\u001b[0m, in \u001b[0;36m_read\u001b[1;34m(filepath_or_buffer, kwds)\u001b[0m\n\u001b[0;32m    580\u001b[0m     \u001b[38;5;28;01mreturn\u001b[39;00m parser\n\u001b[0;32m    582\u001b[0m \u001b[38;5;28;01mwith\u001b[39;00m parser:\n\u001b[1;32m--> 583\u001b[0m     \u001b[38;5;28;01mreturn\u001b[39;00m \u001b[43mparser\u001b[49m\u001b[38;5;241;43m.\u001b[39;49m\u001b[43mread\u001b[49m\u001b[43m(\u001b[49m\u001b[43mnrows\u001b[49m\u001b[43m)\u001b[49m\n",
      "File \u001b[1;32mc:\\Users\\prith\\.pyenv\\pyenv-win\\versions\\3.11.2\\Lib\\site-packages\\pandas\\io\\parsers\\readers.py:1704\u001b[0m, in \u001b[0;36mTextFileReader.read\u001b[1;34m(self, nrows)\u001b[0m\n\u001b[0;32m   1697\u001b[0m nrows \u001b[38;5;241m=\u001b[39m validate_integer(\u001b[38;5;124m\"\u001b[39m\u001b[38;5;124mnrows\u001b[39m\u001b[38;5;124m\"\u001b[39m, nrows)\n\u001b[0;32m   1698\u001b[0m \u001b[38;5;28;01mtry\u001b[39;00m:\n\u001b[0;32m   1699\u001b[0m     \u001b[38;5;66;03m# error: \"ParserBase\" has no attribute \"read\"\u001b[39;00m\n\u001b[0;32m   1700\u001b[0m     (\n\u001b[0;32m   1701\u001b[0m         index,\n\u001b[0;32m   1702\u001b[0m         columns,\n\u001b[0;32m   1703\u001b[0m         col_dict,\n\u001b[1;32m-> 1704\u001b[0m     ) \u001b[38;5;241m=\u001b[39m \u001b[38;5;28;43mself\u001b[39;49m\u001b[38;5;241;43m.\u001b[39;49m\u001b[43m_engine\u001b[49m\u001b[38;5;241;43m.\u001b[39;49m\u001b[43mread\u001b[49m\u001b[43m(\u001b[49m\u001b[43m  \u001b[49m\u001b[38;5;66;43;03m# type: ignore[attr-defined]\u001b[39;49;00m\n\u001b[0;32m   1705\u001b[0m \u001b[43m        \u001b[49m\u001b[43mnrows\u001b[49m\n\u001b[0;32m   1706\u001b[0m \u001b[43m    \u001b[49m\u001b[43m)\u001b[49m\n\u001b[0;32m   1707\u001b[0m \u001b[38;5;28;01mexcept\u001b[39;00m \u001b[38;5;167;01mException\u001b[39;00m:\n\u001b[0;32m   1708\u001b[0m     \u001b[38;5;28mself\u001b[39m\u001b[38;5;241m.\u001b[39mclose()\n",
      "File \u001b[1;32mc:\\Users\\prith\\.pyenv\\pyenv-win\\versions\\3.11.2\\Lib\\site-packages\\pandas\\io\\parsers\\c_parser_wrapper.py:234\u001b[0m, in \u001b[0;36mCParserWrapper.read\u001b[1;34m(self, nrows)\u001b[0m\n\u001b[0;32m    232\u001b[0m \u001b[38;5;28;01mtry\u001b[39;00m:\n\u001b[0;32m    233\u001b[0m     \u001b[38;5;28;01mif\u001b[39;00m \u001b[38;5;28mself\u001b[39m\u001b[38;5;241m.\u001b[39mlow_memory:\n\u001b[1;32m--> 234\u001b[0m         chunks \u001b[38;5;241m=\u001b[39m \u001b[38;5;28mself\u001b[39m\u001b[38;5;241m.\u001b[39m_reader\u001b[38;5;241m.\u001b[39mread_low_memory(nrows)\n\u001b[0;32m    235\u001b[0m         \u001b[38;5;66;03m# destructive to chunks\u001b[39;00m\n\u001b[0;32m    236\u001b[0m         data \u001b[38;5;241m=\u001b[39m _concatenate_chunks(chunks)\n",
      "File \u001b[1;32mc:\\Users\\prith\\.pyenv\\pyenv-win\\versions\\3.11.2\\Lib\\site-packages\\pandas\\_libs\\parsers.pyx:812\u001b[0m, in \u001b[0;36mpandas._libs.parsers.TextReader.read_low_memory\u001b[1;34m()\u001b[0m\n",
      "File \u001b[1;32mc:\\Users\\prith\\.pyenv\\pyenv-win\\versions\\3.11.2\\Lib\\site-packages\\pandas\\_libs\\parsers.pyx:873\u001b[0m, in \u001b[0;36mpandas._libs.parsers.TextReader._read_rows\u001b[1;34m()\u001b[0m\n",
      "File \u001b[1;32mc:\\Users\\prith\\.pyenv\\pyenv-win\\versions\\3.11.2\\Lib\\site-packages\\pandas\\_libs\\parsers.pyx:848\u001b[0m, in \u001b[0;36mpandas._libs.parsers.TextReader._tokenize_rows\u001b[1;34m()\u001b[0m\n",
      "File \u001b[1;32mc:\\Users\\prith\\.pyenv\\pyenv-win\\versions\\3.11.2\\Lib\\site-packages\\pandas\\_libs\\parsers.pyx:859\u001b[0m, in \u001b[0;36mpandas._libs.parsers.TextReader._check_tokenize_status\u001b[1;34m()\u001b[0m\n",
      "File \u001b[1;32mc:\\Users\\prith\\.pyenv\\pyenv-win\\versions\\3.11.2\\Lib\\site-packages\\pandas\\_libs\\parsers.pyx:2025\u001b[0m, in \u001b[0;36mpandas._libs.parsers.raise_parser_error\u001b[1;34m()\u001b[0m\n",
      "\u001b[1;31mParserError\u001b[0m: Error tokenizing data. C error: Calling read(nbytes) on source failed. Try engine='python'."
     ]
    }
   ],
   "source": [
    "years = [2022, 2021]\n",
    "pages = ['Elizabeth_II', 'Worth_(film)']\n",
    "\n",
    "for idx, year in enumerate(years):\n",
    "    page_store = set()\n",
    "    page = pages[idx]\n",
    "    aug = pd.read_csv(f'./spikes/{year}/august{year}.csv')\n",
    "    sept = pd.read_csv(f'./spikes/{year}/september{year}.csv')\n",
    "    octo = pd.read_csv(f'./spikes/{year}/october{year}.csv')\n",
    "    def get_spiked_pages(page, central_df, prev_month_df, next_month_df):\n",
    "        pages_to_check = set([*central_df[(central_df['prev']==page) & (central_df['clicks']>=100)]['curr'].values,\n",
    "                            #*central_df[(central_df['curr']==page) & (central_df['clicks']>=100)]['prev'].values,\n",
    "                            *prev_month_df[(prev_month_df['prev']==page) & (prev_month_df['clicks']>=100)]['curr'].values,\n",
    "                            #*prev_month_df[(prev_month_df['curr']==page) & (prev_month_df['clicks']>=100)]['prev'].values,\n",
    "                            *next_month_df[(next_month_df['prev']==page) & (next_month_df['clicks']>=100)]['curr'].values,\n",
    "                            #*next_month_df[(next_month_df['curr']==page) & (next_month_df['clicks']>=100)]['prev'].values,\n",
    "                            #page\n",
    "                            ])\n",
    "        inflow_prev = prev_month_df[prev_month_df['type']=='link'].groupby('curr')[['clicks']].agg(sum)\n",
    "        inflow_central = central_df[central_df['type']=='link'].groupby('curr')[['clicks']].agg(sum)\n",
    "        inflow_next = next_month_df[next_month_df['type']=='link'].groupby('curr')[['clicks']].agg(sum)\n",
    "\n",
    "        inflow_prev = inflow_prev[inflow_prev.index.isin(pages_to_check)]\n",
    "        inflow_central = inflow_central[inflow_central.index.isin(pages_to_check)]\n",
    "        inflow_next = inflow_next[inflow_next.index.isin(pages_to_check)]\n",
    "\n",
    "        merged = inflow_central.join(inflow_prev, lsuffix='_central', rsuffix='_prev')\n",
    "        merged = merged.join(inflow_next, rsuffix='_next')\n",
    "        merged['clicks_next'] = merged['clicks']\n",
    "        merged=merged.drop('clicks',axis=1)\n",
    "        merged['spike_ratio'] = (2*merged['clicks_central'])/(merged['clicks_prev']+merged['clicks_next'])\n",
    "        next_step_pages = merged[merged['spike_ratio']>1.5].sort_values('clicks_central', ascending=False)\n",
    "        return next_step_pages.index.values\n",
    "\n",
    "    queue = [page]\n",
    "    visited_pages = set()\n",
    "    page_store.add(page)\n",
    "\n",
    "    level_size = 1\n",
    "    next_level_size = 0\n",
    "\n",
    "    spike_level_nums = []\n",
    "\n",
    "    while len(queue)!=0:\n",
    "        node = queue.pop(0)\n",
    "        level_size-=1\n",
    "        if node not in visited_pages:\n",
    "            new_pages = get_spiked_pages(page, central_df=sept, prev_month_df=aug, next_month_df=octo)\n",
    "            next_level_size += len(new_pages)\n",
    "            queue.extend(new_pages)\n",
    "            visited_pages.add(node)\n",
    "            page_store.update(new_pages)\n",
    "        if level_size==0:\n",
    "            spike_level_nums.append(next_level_size)\n",
    "            display(year, spike_level_nums)\n",
    "            level_size = next_level_size\n",
    "            next_level_size = 0\n",
    "    with open(f'./spikes/{year}/spiked_nodes_max.pkl', 'wb') as f:\n",
    "        pickle.dump(page_store, f, protocol=pickle.HIGHEST_PROTOCOL)\n"
   ]
  },
  {
   "cell_type": "code",
   "execution_count": null,
   "metadata": {},
   "outputs": [],
   "source": []
  }
 ],
 "metadata": {
  "kernelspec": {
   "display_name": "Python 3",
   "language": "python",
   "name": "python3"
  },
  "language_info": {
   "codemirror_mode": {
    "name": "ipython",
    "version": 3
   },
   "file_extension": ".py",
   "mimetype": "text/x-python",
   "name": "python",
   "nbconvert_exporter": "python",
   "pygments_lexer": "ipython3",
   "version": "3.11.2"
  }
 },
 "nbformat": 4,
 "nbformat_minor": 2
}
