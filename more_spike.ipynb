{
 "cells": [
  {
   "cell_type": "code",
   "execution_count": 131,
   "metadata": {},
   "outputs": [],
   "source": [
    "page_store = set()"
   ]
  },
  {
   "cell_type": "code",
   "execution_count": 1,
   "metadata": {},
   "outputs": [],
   "source": [
    "import pandas as pd\n",
    "\n",
    "aug = pd.read_csv('august2023.csv')\n",
    "sept = pd.read_csv('september2023.csv')\n",
    "octo = pd.read_csv('october2023.csv')"
   ]
  },
  {
   "cell_type": "code",
   "execution_count": 186,
   "metadata": {},
   "outputs": [
    {
     "data": {
      "text/html": [
       "<div>\n",
       "<style scoped>\n",
       "    .dataframe tbody tr th:only-of-type {\n",
       "        vertical-align: middle;\n",
       "    }\n",
       "\n",
       "    .dataframe tbody tr th {\n",
       "        vertical-align: top;\n",
       "    }\n",
       "\n",
       "    .dataframe thead th {\n",
       "        text-align: right;\n",
       "    }\n",
       "</style>\n",
       "<table border=\"1\" class=\"dataframe\">\n",
       "  <thead>\n",
       "    <tr style=\"text-align: right;\">\n",
       "      <th></th>\n",
       "      <th>clicks_central</th>\n",
       "      <th>clicks_prev</th>\n",
       "      <th>clicks_next</th>\n",
       "      <th>spike_ratio</th>\n",
       "    </tr>\n",
       "    <tr>\n",
       "      <th>curr</th>\n",
       "      <th></th>\n",
       "      <th></th>\n",
       "      <th></th>\n",
       "      <th></th>\n",
       "    </tr>\n",
       "  </thead>\n",
       "  <tbody>\n",
       "    <tr>\n",
       "      <th>September_11_attacks</th>\n",
       "      <td>1950667</td>\n",
       "      <td>470818.0</td>\n",
       "      <td>492785</td>\n",
       "      <td>4.048694</td>\n",
       "    </tr>\n",
       "    <tr>\n",
       "      <th>Dianne_Feinstein</th>\n",
       "      <td>1175875</td>\n",
       "      <td>259820.0</td>\n",
       "      <td>515358</td>\n",
       "      <td>3.033819</td>\n",
       "    </tr>\n",
       "    <tr>\n",
       "      <th>Aaron_Rodgers</th>\n",
       "      <td>931974</td>\n",
       "      <td>417795.0</td>\n",
       "      <td>262737</td>\n",
       "      <td>2.738957</td>\n",
       "    </tr>\n",
       "    <tr>\n",
       "      <th>Mark_Wahlberg</th>\n",
       "      <td>584859</td>\n",
       "      <td>341908.0</td>\n",
       "      <td>300941</td>\n",
       "      <td>1.819584</td>\n",
       "    </tr>\n",
       "    <tr>\n",
       "      <th>World_Trade_Center_(1973–2001)</th>\n",
       "      <td>532825</td>\n",
       "      <td>163411.0</td>\n",
       "      <td>186482</td>\n",
       "      <td>3.045645</td>\n",
       "    </tr>\n",
       "  </tbody>\n",
       "</table>\n",
       "</div>"
      ],
      "text/plain": [
       "                                clicks_central  clicks_prev  clicks_next  \\\n",
       "curr                                                                       \n",
       "September_11_attacks                   1950667     470818.0       492785   \n",
       "Dianne_Feinstein                       1175875     259820.0       515358   \n",
       "Aaron_Rodgers                           931974     417795.0       262737   \n",
       "Mark_Wahlberg                           584859     341908.0       300941   \n",
       "World_Trade_Center_(1973–2001)          532825     163411.0       186482   \n",
       "\n",
       "                                spike_ratio  \n",
       "curr                                         \n",
       "September_11_attacks               4.048694  \n",
       "Dianne_Feinstein                   3.033819  \n",
       "Aaron_Rodgers                      2.738957  \n",
       "Mark_Wahlberg                      1.819584  \n",
       "World_Trade_Center_(1973–2001)     3.045645  "
      ]
     },
     "execution_count": 186,
     "metadata": {},
     "output_type": "execute_result"
    }
   ],
   "source": [
    "page = 'September_11_attacks'\n",
    "\n",
    "def get_max_spike_page(page, central_df, prev_month_df, next_month_df):\n",
    "    pages_to_check = set([*central_df[(central_df['prev']==page) & (central_df['clicks']>=100)]['curr'].values,\n",
    "                        *central_df[(central_df['curr']==page) & (central_df['clicks']>=100)]['prev'].values,\n",
    "                        *prev_month_df[(prev_month_df['prev']==page) & (prev_month_df['clicks']>=100)]['curr'].values,\n",
    "                        *prev_month_df[(prev_month_df['curr']==page) & (prev_month_df['clicks']>=100)]['prev'].values,\n",
    "                        *next_month_df[(next_month_df['prev']==page) & (next_month_df['clicks']>=130)]['curr'].values,\n",
    "                        *next_month_df[(next_month_df['curr']==page) & (next_month_df['clicks']>=130)]['prev'].values,\n",
    "                        page\n",
    "                        ])\n",
    "    inflow_prev = prev_month_df[prev_month_df['type']!='other'].groupby('curr')[['clicks']].agg(sum)\n",
    "    inflow_central = central_df[central_df['type']!='other'].groupby('curr')[['clicks']].agg(sum)\n",
    "    inflow_next = next_month_df[next_month_df['type']!='other'].groupby('curr')[['clicks']].agg(sum)\n",
    "\n",
    "    inflow_prev = inflow_prev[inflow_prev.index.isin(pages_to_check)]\n",
    "    inflow_central = inflow_central[inflow_central.index.isin(pages_to_check)]\n",
    "    inflow_next = inflow_next[inflow_next.index.isin(pages_to_check)]\n",
    "\n",
    "    merged = inflow_central.join(inflow_prev, lsuffix='_central', rsuffix='_prev')\n",
    "    merged = merged.join(inflow_next, rsuffix='_next')\n",
    "    merged['clicks_next'] = merged['clicks']\n",
    "    merged=merged.drop('clicks',axis=1)\n",
    "    merged['spike_ratio'] = (2*merged['clicks_central'])/(merged['clicks_prev']+merged['clicks_next'])\n",
    "    next_step_pages = merged[merged['spike_ratio']>1.5].sort_values('clicks_central', ascending=False)\n",
    "    return next_step_pages.head()\n",
    "\n",
    "get_max_spike_page(page=page, central_df=sept, prev_month_df=aug, next_month_df=octo)\n"
   ]
  },
  {
   "cell_type": "code",
   "execution_count": 193,
   "metadata": {},
   "outputs": [
    {
     "name": "stdout",
     "output_type": "stream",
     "text": [
      "[194]\n",
      "[194, 37636]\n",
      "[194, 37636, 0]\n"
     ]
    }
   ],
   "source": [
    "def get_spiked_pages(page, central_df, prev_month_df, next_month_df):\n",
    "    pages_to_check = set([*central_df[(central_df['prev']==page) & (central_df['clicks']>=100)]['curr'].values,\n",
    "                        #*central_df[(central_df['curr']==page) & (central_df['clicks']>=100)]['prev'].values,\n",
    "                        *prev_month_df[(prev_month_df['prev']==page) & (prev_month_df['clicks']>=100)]['curr'].values,\n",
    "                        #*prev_month_df[(prev_month_df['curr']==page) & (prev_month_df['clicks']>=100)]['prev'].values,\n",
    "                        *next_month_df[(next_month_df['prev']==page) & (next_month_df['clicks']>=130)]['curr'].values,\n",
    "                        #*next_month_df[(next_month_df['curr']==page) & (next_month_df['clicks']>=130)]['prev'].values,\n",
    "                        #page\n",
    "                        ])\n",
    "    inflow_prev = prev_month_df[prev_month_df['type']=='link'].groupby('curr')[['clicks']].agg(sum)\n",
    "    inflow_central = central_df[central_df['type']=='link'].groupby('curr')[['clicks']].agg(sum)\n",
    "    inflow_next = next_month_df[next_month_df['type']=='link'].groupby('curr')[['clicks']].agg(sum)\n",
    "\n",
    "    inflow_prev = inflow_prev[inflow_prev.index.isin(pages_to_check)]\n",
    "    inflow_central = inflow_central[inflow_central.index.isin(pages_to_check)]\n",
    "    inflow_next = inflow_next[inflow_next.index.isin(pages_to_check)]\n",
    "\n",
    "    merged = inflow_central.join(inflow_prev, lsuffix='_central', rsuffix='_prev')\n",
    "    merged = merged.join(inflow_next, rsuffix='_next')\n",
    "    merged['clicks_next'] = merged['clicks']\n",
    "    merged=merged.drop('clicks',axis=1)\n",
    "    merged['spike_ratio'] = (2*merged['clicks_central'])/(merged['clicks_prev']+merged['clicks_next'])\n",
    "    next_step_pages = merged[merged['spike_ratio']>1.5].sort_values('clicks_central', ascending=False)\n",
    "    return next_step_pages.index.values\n",
    "\n",
    "queue = [page]\n",
    "visited_pages = set()\n",
    "\n",
    "level_size = 1\n",
    "next_level_size = 0\n",
    "\n",
    "spike_level_nums = []\n",
    "\n",
    "while len(queue)!=0:\n",
    "    node = queue.pop(0)\n",
    "    level_size-=1\n",
    "    if node not in visited_pages:\n",
    "        new_pages = get_spiked_pages(page, central_df=sept, prev_month_df=aug, next_month_df=octo)\n",
    "        next_level_size += len(new_pages)\n",
    "        queue.extend(new_pages)\n",
    "        visited_pages.add(node)\n",
    "    if level_size==0:\n",
    "        spike_level_nums.append(next_level_size)\n",
    "        print(spike_level_nums)\n",
    "        level_size = next_level_size\n",
    "        next_level_size = 0\n",
    "    "
   ]
  },
  {
   "cell_type": "code",
   "execution_count": 194,
   "metadata": {},
   "outputs": [
    {
     "data": {
      "text/plain": [
       "195"
      ]
     },
     "execution_count": 194,
     "metadata": {},
     "output_type": "execute_result"
    }
   ],
   "source": [
    "len(visited_pages)"
   ]
  },
  {
   "cell_type": "code",
   "execution_count": null,
   "metadata": {},
   "outputs": [],
   "source": []
  },
  {
   "cell_type": "code",
   "execution_count": null,
   "metadata": {},
   "outputs": [],
   "source": []
  },
  {
   "cell_type": "code",
   "execution_count": null,
   "metadata": {},
   "outputs": [],
   "source": [
    "\n"
   ]
  },
  {
   "cell_type": "code",
   "execution_count": 180,
   "metadata": {},
   "outputs": [],
   "source": [
    "merged['spike_ratio'] = (2*merged['clicks_sept'])/(merged['clicks_aug']+merged['clicks_oct'])"
   ]
  },
  {
   "cell_type": "code",
   "execution_count": null,
   "metadata": {},
   "outputs": [],
   "source": []
  }
 ],
 "metadata": {
  "kernelspec": {
   "display_name": "Python 3",
   "language": "python",
   "name": "python3"
  },
  "language_info": {
   "codemirror_mode": {
    "name": "ipython",
    "version": 3
   },
   "file_extension": ".py",
   "mimetype": "text/x-python",
   "name": "python",
   "nbconvert_exporter": "python",
   "pygments_lexer": "ipython3",
   "version": "3.11.2"
  }
 },
 "nbformat": 4,
 "nbformat_minor": 2
}
