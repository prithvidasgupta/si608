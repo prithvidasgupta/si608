{
 "cells": [
  {
   "cell_type": "code",
   "execution_count": 7,
   "metadata": {},
   "outputs": [],
   "source": [
    "import gzip\n",
    "\n",
    "dataset_tuples = []\n",
    "\n",
    "with gzip.open('./dataset/clickstream-enwiki-2023-10.tsv.gz', 'rt', encoding='utf-8') as file:\n",
    "    for line in file:\n",
    "        parts = line.strip().split('\\t')\n",
    "        dataset_tuples.append((parts[0],parts[1],parts[2],int(parts[3])))"
   ]
  },
  {
   "cell_type": "code",
   "execution_count": 11,
   "metadata": {},
   "outputs": [],
   "source": [
    "import pandas as pd\n",
    "\n",
    "df = pd.DataFrame(dataset_tuples, columns=['prev', 'curr', 'type' ,'clicks'])"
   ]
  },
  {
   "cell_type": "code",
   "execution_count": null,
   "metadata": {},
   "outputs": [],
   "source": [
    "del dataset_tuples"
   ]
  },
  {
   "cell_type": "code",
   "execution_count": 17,
   "metadata": {},
   "outputs": [
    {
     "data": {
      "text/html": [
       "<div>\n",
       "<style scoped>\n",
       "    .dataframe tbody tr th:only-of-type {\n",
       "        vertical-align: middle;\n",
       "    }\n",
       "\n",
       "    .dataframe tbody tr th {\n",
       "        vertical-align: top;\n",
       "    }\n",
       "\n",
       "    .dataframe thead th {\n",
       "        text-align: right;\n",
       "    }\n",
       "</style>\n",
       "<table border=\"1\" class=\"dataframe\">\n",
       "  <thead>\n",
       "    <tr style=\"text-align: right;\">\n",
       "      <th></th>\n",
       "      <th>prev</th>\n",
       "      <th>curr</th>\n",
       "      <th>type</th>\n",
       "      <th>clicks</th>\n",
       "    </tr>\n",
       "  </thead>\n",
       "  <tbody>\n",
       "    <tr>\n",
       "      <th>0</th>\n",
       "      <td>other-search</td>\n",
       "      <td>Jill_R._Horwitz</td>\n",
       "      <td>external</td>\n",
       "      <td>24</td>\n",
       "    </tr>\n",
       "    <tr>\n",
       "      <th>1</th>\n",
       "      <td>Inés_Sastre</td>\n",
       "      <td>A_Dinner_for_Them_to_Meet</td>\n",
       "      <td>link</td>\n",
       "      <td>13</td>\n",
       "    </tr>\n",
       "    <tr>\n",
       "      <th>2</th>\n",
       "      <td>The_Clitheroe_Kid</td>\n",
       "      <td>Anthea_Askey</td>\n",
       "      <td>link</td>\n",
       "      <td>19</td>\n",
       "    </tr>\n",
       "    <tr>\n",
       "      <th>3</th>\n",
       "      <td>other-empty</td>\n",
       "      <td>A_Dinner_for_Them_to_Meet</td>\n",
       "      <td>external</td>\n",
       "      <td>17</td>\n",
       "    </tr>\n",
       "    <tr>\n",
       "      <th>4</th>\n",
       "      <td>other-empty</td>\n",
       "      <td>Anthea_Askey</td>\n",
       "      <td>external</td>\n",
       "      <td>48</td>\n",
       "    </tr>\n",
       "  </tbody>\n",
       "</table>\n",
       "</div>"
      ],
      "text/plain": [
       "                prev                       curr      type  clicks\n",
       "0       other-search            Jill_R._Horwitz  external      24\n",
       "1        Inés_Sastre  A_Dinner_for_Them_to_Meet      link      13\n",
       "2  The_Clitheroe_Kid               Anthea_Askey      link      19\n",
       "3        other-empty  A_Dinner_for_Them_to_Meet  external      17\n",
       "4        other-empty               Anthea_Askey  external      48"
      ]
     },
     "execution_count": 17,
     "metadata": {},
     "output_type": "execute_result"
    }
   ],
   "source": [
    "page = 'World_Trade_Center_(1973–2001)'\n",
    "df.columns = ['prev', 'curr', 'type' ,'clicks']"
   ]
  },
  {
   "cell_type": "code",
   "execution_count": 43,
   "metadata": {},
   "outputs": [
    {
     "name": "stderr",
     "output_type": "stream",
     "text": [
      "100%|██████████| 300/300 [11:19<00:00,  2.27s/it]\n"
     ]
    }
   ],
   "source": [
    "from tqdm import tqdm\n",
    "\n",
    "level_set = set()\n",
    "queue = []\n",
    "adj_mat = {}\n",
    "\n",
    "queue.append(page)\n",
    "\n",
    "all_nodes = set()\n",
    "all_nodes.add(page)\n",
    "\n",
    "with tqdm(total=300) as pbar:\n",
    "    while len(level_set) != 300:\n",
    "        node = queue.pop(0)\n",
    "        if node not in level_set:\n",
    "            vals = df[df['prev']==node]['curr'].values\n",
    "            queue.extend(vals)\n",
    "            level_set.add(node)\n",
    "            all_nodes.update(vals)\n",
    "            pbar.update()"
   ]
  },
  {
   "cell_type": "code",
   "execution_count": 51,
   "metadata": {},
   "outputs": [],
   "source": [
    "all_nodes.update(['other-search', 'other-empty', 'other-internal', 'other-external', 'other-other'])"
   ]
  },
  {
   "cell_type": "code",
   "execution_count": 68,
   "metadata": {},
   "outputs": [],
   "source": [
    "import pickle\n",
    "\n",
    "with open('all_nodes.pkl',  'wb') as f:\n",
    "    pickle.dump(all_nodes, f)"
   ]
  },
  {
   "cell_type": "code",
   "execution_count": 57,
   "metadata": {},
   "outputs": [],
   "source": [
    "october_df = df[(df['prev'].isin(all_nodes)) & (df['curr'].isin(all_nodes))].reset_index(drop=True)"
   ]
  },
  {
   "cell_type": "code",
   "execution_count": 69,
   "metadata": {},
   "outputs": [],
   "source": [
    "october_df.to_csv('october2023.csv')"
   ]
  },
  {
   "cell_type": "code",
   "execution_count": 70,
   "metadata": {},
   "outputs": [],
   "source": [
    "dataset_tuples = []\n",
    "\n",
    "with gzip.open('./dataset/clickstream-enwiki-2023-09.tsv.gz', 'rt', encoding='utf-8') as file:\n",
    "    for line in file:\n",
    "        parts = line.strip().split('\\t')\n",
    "        dataset_tuples.append((parts[0],parts[1],parts[2],int(parts[3])))\n",
    "\n",
    "df = pd.DataFrame(dataset_tuples, columns=['prev', 'curr', 'type' ,'clicks'])\n",
    "\n",
    "september_df = df[(df['prev'].isin(all_nodes)) & (df['curr'].isin(all_nodes))].reset_index(drop=True)\n",
    "\n",
    "september_df.to_csv('september2023.csv')"
   ]
  },
  {
   "cell_type": "code",
   "execution_count": null,
   "metadata": {},
   "outputs": [],
   "source": [
    "dataset_tuples = []\n",
    "\n",
    "with gzip.open('./dataset/clickstream-enwiki-2023-08.tsv.gz', 'rt', encoding='utf-8') as file:\n",
    "    for line in file:\n",
    "        parts = line.strip().split('\\t')\n",
    "        dataset_tuples.append((parts[0],parts[1],parts[2],int(parts[3])))\n",
    "\n",
    "df = pd.DataFrame(dataset_tuples, columns=['prev', 'curr', 'type' ,'clicks'])\n",
    "\n",
    "september_df = df[(df['prev'].isin(all_nodes)) & (df['curr'].isin(all_nodes))].reset_index(drop=True)\n",
    "\n",
    "september_df.to_csv('august2023.csv')"
   ]
  }
 ],
 "metadata": {
  "kernelspec": {
   "display_name": "Python 3",
   "language": "python",
   "name": "python3"
  },
  "language_info": {
   "codemirror_mode": {
    "name": "ipython",
    "version": 3
   },
   "file_extension": ".py",
   "mimetype": "text/x-python",
   "name": "python",
   "nbconvert_exporter": "python",
   "pygments_lexer": "ipython3",
   "version": "3.11.2"
  }
 },
 "nbformat": 4,
 "nbformat_minor": 2
}
