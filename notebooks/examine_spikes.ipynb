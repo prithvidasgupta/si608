{
 "cells": [
  {
   "cell_type": "code",
   "execution_count": 59,
   "id": "initial_id",
   "metadata": {
    "collapsed": true,
    "ExecuteTime": {
     "end_time": "2023-12-15T01:40:20.955399Z",
     "start_time": "2023-12-15T01:40:19.885684Z"
    }
   },
   "outputs": [],
   "source": [
    "import pandas as pd\n",
    "import seaborn as sns\n",
    "import matplotlib.pyplot as plt"
   ]
  },
  {
   "cell_type": "code",
   "execution_count": 60,
   "outputs": [],
   "source": [
    "spiked_2019 = pd.read_pickle(\"../output/spikes/2019/spiked_nodes.pkl\")\n",
    "spiked_nodes_2019 = pd.DataFrame(spiked_2019, columns=[\"spiked_nodes\"])\n",
    "spiked_2023 = pd.read_pickle(\"../output/spikes/2023/spiked_nodes.pkl\")\n",
    "spiked_nodes_2023 = pd.DataFrame(spiked_2023, columns=[\"spiked_nodes\"])\n",
    "\n",
    "eigs_sept2019 = pd.read_csv(\"../output/random_walks/not_uniform_prob/2019-09_sept11_~uniform.csv\")\n",
    "eigs_sept2023 = pd.read_csv(\"../output/random_walks/not_uniform_prob/2023-09_sept11_~uniform.csv\")\n"
   ],
   "metadata": {
    "collapsed": false,
    "ExecuteTime": {
     "end_time": "2023-12-15T01:40:21.223016Z",
     "start_time": "2023-12-15T01:40:20.957808Z"
    }
   },
   "id": "f9c876ea2c04b02f"
  },
  {
   "cell_type": "code",
   "execution_count": 61,
   "outputs": [
    {
     "name": "stdout",
     "output_type": "stream",
     "text": [
      "32\n",
      "195\n"
     ]
    }
   ],
   "source": [
    "print(len(spiked_nodes_2019))\n",
    "print(len(spiked_nodes_2023))"
   ],
   "metadata": {
    "collapsed": false,
    "ExecuteTime": {
     "end_time": "2023-12-15T01:40:21.226498Z",
     "start_time": "2023-12-15T01:40:21.223710Z"
    }
   },
   "id": "d54ab5bb3791495a"
  },
  {
   "cell_type": "code",
   "execution_count": 69,
   "outputs": [
    {
     "data": {
      "text/plain": "        Unnamed: 0                             page  eig_cent    rank\n17524        17524                        Wikipedia  0.000004       1\n119649      119649                       Philosophy  0.000004       2\n155902      155902  Outline_of_academic_disciplines  0.000004       3\n119506      119506                             2023  0.000004       4\n270599      270599                 WWE_Hall_of_Fame  0.000004       5\n...            ...                              ...       ...     ...\n44604        44604                      South_Tower  0.000004  276296\n169766      169766                              WTC  0.000004  276297\n259924      259924                             AA11  0.000004  276298\n220187      220187                              911  0.000004  276299\n66888        66888             September_11_attacks  0.000004  276300\n\n[276300 rows x 4 columns]",
      "text/html": "<div>\n<style scoped>\n    .dataframe tbody tr th:only-of-type {\n        vertical-align: middle;\n    }\n\n    .dataframe tbody tr th {\n        vertical-align: top;\n    }\n\n    .dataframe thead th {\n        text-align: right;\n    }\n</style>\n<table border=\"1\" class=\"dataframe\">\n  <thead>\n    <tr style=\"text-align: right;\">\n      <th></th>\n      <th>Unnamed: 0</th>\n      <th>page</th>\n      <th>eig_cent</th>\n      <th>rank</th>\n    </tr>\n  </thead>\n  <tbody>\n    <tr>\n      <th>17524</th>\n      <td>17524</td>\n      <td>Wikipedia</td>\n      <td>0.000004</td>\n      <td>1</td>\n    </tr>\n    <tr>\n      <th>119649</th>\n      <td>119649</td>\n      <td>Philosophy</td>\n      <td>0.000004</td>\n      <td>2</td>\n    </tr>\n    <tr>\n      <th>155902</th>\n      <td>155902</td>\n      <td>Outline_of_academic_disciplines</td>\n      <td>0.000004</td>\n      <td>3</td>\n    </tr>\n    <tr>\n      <th>119506</th>\n      <td>119506</td>\n      <td>2023</td>\n      <td>0.000004</td>\n      <td>4</td>\n    </tr>\n    <tr>\n      <th>270599</th>\n      <td>270599</td>\n      <td>WWE_Hall_of_Fame</td>\n      <td>0.000004</td>\n      <td>5</td>\n    </tr>\n    <tr>\n      <th>...</th>\n      <td>...</td>\n      <td>...</td>\n      <td>...</td>\n      <td>...</td>\n    </tr>\n    <tr>\n      <th>44604</th>\n      <td>44604</td>\n      <td>South_Tower</td>\n      <td>0.000004</td>\n      <td>276296</td>\n    </tr>\n    <tr>\n      <th>169766</th>\n      <td>169766</td>\n      <td>WTC</td>\n      <td>0.000004</td>\n      <td>276297</td>\n    </tr>\n    <tr>\n      <th>259924</th>\n      <td>259924</td>\n      <td>AA11</td>\n      <td>0.000004</td>\n      <td>276298</td>\n    </tr>\n    <tr>\n      <th>220187</th>\n      <td>220187</td>\n      <td>911</td>\n      <td>0.000004</td>\n      <td>276299</td>\n    </tr>\n    <tr>\n      <th>66888</th>\n      <td>66888</td>\n      <td>September_11_attacks</td>\n      <td>0.000004</td>\n      <td>276300</td>\n    </tr>\n  </tbody>\n</table>\n<p>276300 rows × 4 columns</p>\n</div>"
     },
     "execution_count": 69,
     "metadata": {},
     "output_type": "execute_result"
    }
   ],
   "source": [
    "eigs_2023_sorted = eigs_sept2023.sort_values(by=\"eig_cent\", ascending=False)\n",
    "eigs_2023_sorted[\"rank\"] = range(1, len(eigs_2023_sorted) + 1)\n",
    "eigs_2023_sorted"
   ],
   "metadata": {
    "collapsed": false,
    "ExecuteTime": {
     "end_time": "2023-12-15T01:53:43.002314Z",
     "start_time": "2023-12-15T01:53:42.965593Z"
    }
   },
   "id": "54cef7345ed31417"
  },
  {
   "cell_type": "code",
   "execution_count": 70,
   "outputs": [
    {
     "data": {
      "text/plain": "                                          spiked_nodes  Unnamed: 0  \\\n0                    World_Trade_Center_(2001–present)       31140   \n1                    World_Trade_Center_station_(PATH)      118732   \n2    Port_Authority_of_New_York_and_New_Jersey_Poli...       31403   \n3      Media_documentation_of_the_September_11_attacks        2511   \n4                                      Omar_al-Bayoumi      246586   \n..                                                 ...         ...   \n190                         2004_Osama_bin_Laden_video      223577   \n191                  List_of_attacks_on_U.S._territory       39155   \n192            National_September_11_Memorial_&_Museum      270298   \n193                     World_Trade_Center_(1973–2001)      127817   \n194           Osama_bin_Laden's_compound_in_Abbottabad      229958   \n\n                                                  page  eig_cent    rank  \n0                    World_Trade_Center_(2001–present)  0.000004  276272  \n1                    World_Trade_Center_station_(PATH)  0.000004  275743  \n2    Port_Authority_of_New_York_and_New_Jersey_Poli...  0.000004  275941  \n3      Media_documentation_of_the_September_11_attacks  0.000004  276249  \n4                                      Omar_al-Bayoumi  0.000004  275278  \n..                                                 ...       ...     ...  \n190                         2004_Osama_bin_Laden_video  0.000004  276242  \n191                  List_of_attacks_on_U.S._territory  0.000004  276238  \n192            National_September_11_Memorial_&_Museum  0.000004  276236  \n193                     World_Trade_Center_(1973–2001)  0.000004  276113  \n194           Osama_bin_Laden's_compound_in_Abbottabad  0.000004  274569  \n\n[195 rows x 5 columns]",
      "text/html": "<div>\n<style scoped>\n    .dataframe tbody tr th:only-of-type {\n        vertical-align: middle;\n    }\n\n    .dataframe tbody tr th {\n        vertical-align: top;\n    }\n\n    .dataframe thead th {\n        text-align: right;\n    }\n</style>\n<table border=\"1\" class=\"dataframe\">\n  <thead>\n    <tr style=\"text-align: right;\">\n      <th></th>\n      <th>spiked_nodes</th>\n      <th>Unnamed: 0</th>\n      <th>page</th>\n      <th>eig_cent</th>\n      <th>rank</th>\n    </tr>\n  </thead>\n  <tbody>\n    <tr>\n      <th>0</th>\n      <td>World_Trade_Center_(2001–present)</td>\n      <td>31140</td>\n      <td>World_Trade_Center_(2001–present)</td>\n      <td>0.000004</td>\n      <td>276272</td>\n    </tr>\n    <tr>\n      <th>1</th>\n      <td>World_Trade_Center_station_(PATH)</td>\n      <td>118732</td>\n      <td>World_Trade_Center_station_(PATH)</td>\n      <td>0.000004</td>\n      <td>275743</td>\n    </tr>\n    <tr>\n      <th>2</th>\n      <td>Port_Authority_of_New_York_and_New_Jersey_Poli...</td>\n      <td>31403</td>\n      <td>Port_Authority_of_New_York_and_New_Jersey_Poli...</td>\n      <td>0.000004</td>\n      <td>275941</td>\n    </tr>\n    <tr>\n      <th>3</th>\n      <td>Media_documentation_of_the_September_11_attacks</td>\n      <td>2511</td>\n      <td>Media_documentation_of_the_September_11_attacks</td>\n      <td>0.000004</td>\n      <td>276249</td>\n    </tr>\n    <tr>\n      <th>4</th>\n      <td>Omar_al-Bayoumi</td>\n      <td>246586</td>\n      <td>Omar_al-Bayoumi</td>\n      <td>0.000004</td>\n      <td>275278</td>\n    </tr>\n    <tr>\n      <th>...</th>\n      <td>...</td>\n      <td>...</td>\n      <td>...</td>\n      <td>...</td>\n      <td>...</td>\n    </tr>\n    <tr>\n      <th>190</th>\n      <td>2004_Osama_bin_Laden_video</td>\n      <td>223577</td>\n      <td>2004_Osama_bin_Laden_video</td>\n      <td>0.000004</td>\n      <td>276242</td>\n    </tr>\n    <tr>\n      <th>191</th>\n      <td>List_of_attacks_on_U.S._territory</td>\n      <td>39155</td>\n      <td>List_of_attacks_on_U.S._territory</td>\n      <td>0.000004</td>\n      <td>276238</td>\n    </tr>\n    <tr>\n      <th>192</th>\n      <td>National_September_11_Memorial_&amp;_Museum</td>\n      <td>270298</td>\n      <td>National_September_11_Memorial_&amp;_Museum</td>\n      <td>0.000004</td>\n      <td>276236</td>\n    </tr>\n    <tr>\n      <th>193</th>\n      <td>World_Trade_Center_(1973–2001)</td>\n      <td>127817</td>\n      <td>World_Trade_Center_(1973–2001)</td>\n      <td>0.000004</td>\n      <td>276113</td>\n    </tr>\n    <tr>\n      <th>194</th>\n      <td>Osama_bin_Laden's_compound_in_Abbottabad</td>\n      <td>229958</td>\n      <td>Osama_bin_Laden's_compound_in_Abbottabad</td>\n      <td>0.000004</td>\n      <td>274569</td>\n    </tr>\n  </tbody>\n</table>\n<p>195 rows × 5 columns</p>\n</div>"
     },
     "execution_count": 70,
     "metadata": {},
     "output_type": "execute_result"
    }
   ],
   "source": [
    "spikes_eigs_2023 = pd.merge(spiked_nodes_2023, eigs_2023_sorted, left_on=\"spiked_nodes\", right_on=\"page\", how=\"inner\")\n",
    "spikes_eigs_2023"
   ],
   "metadata": {
    "collapsed": false,
    "ExecuteTime": {
     "end_time": "2023-12-15T01:53:58.438162Z",
     "start_time": "2023-12-15T01:53:58.420693Z"
    }
   },
   "id": "3543076bdad1e4e3"
  },
  {
   "cell_type": "code",
   "execution_count": 75,
   "outputs": [
    {
     "data": {
      "text/plain": "<Axes: xlabel='rank', ylabel='eig_cent'>"
     },
     "execution_count": 75,
     "metadata": {},
     "output_type": "execute_result"
    },
    {
     "data": {
      "text/plain": "<Figure size 640x480 with 1 Axes>",
      "image/png": "[encoded data removed]"
     },
     "metadata": {},
     "output_type": "display_data"
    }
   ],
   "source": [
    "sns.scatterplot(spikes_eigs_2023, x=\"rank\", y=\"eig_cent\")"
   ],
   "metadata": {
    "collapsed": false,
    "ExecuteTime": {
     "end_time": "2023-12-15T02:04:36.534303Z",
     "start_time": "2023-12-15T02:04:36.468701Z"
    }
   },
   "id": "20ea3c1c0fa09cd2"
  },
  {
   "cell_type": "code",
   "execution_count": 64,
   "outputs": [],
   "source": [],
   "metadata": {
    "collapsed": false,
    "ExecuteTime": {
     "end_time": "2023-12-15T01:40:21.914723Z",
     "start_time": "2023-12-15T01:40:21.912644Z"
    }
   },
   "id": "98a4a2c46426dc16"
  },
  {
   "cell_type": "code",
   "execution_count": 64,
   "outputs": [],
   "source": [],
   "metadata": {
    "collapsed": false,
    "ExecuteTime": {
     "end_time": "2023-12-15T01:40:21.918587Z",
     "start_time": "2023-12-15T01:40:21.914678Z"
    }
   },
   "id": "74bd5b8e6f02cb6a"
  },
  {
   "cell_type": "code",
   "execution_count": 64,
   "outputs": [],
   "source": [],
   "metadata": {
    "collapsed": false,
    "ExecuteTime": {
     "end_time": "2023-12-15T01:40:21.918684Z",
     "start_time": "2023-12-15T01:40:21.916709Z"
    }
   },
   "id": "76c61d4e53636a10"
  }
 ],
 "metadata": {
  "kernelspec": {
   "display_name": "Python 3",
   "language": "python",
   "name": "python3"
  },
  "language_info": {
   "codemirror_mode": {
    "name": "ipython",
    "version": 2
   },
   "file_extension": ".py",
   "mimetype": "text/x-python",
   "name": "python",
   "nbconvert_exporter": "python",
   "pygments_lexer": "ipython2",
   "version": "2.7.6"
  }
 },
 "nbformat": 4,
 "nbformat_minor": 5
}
