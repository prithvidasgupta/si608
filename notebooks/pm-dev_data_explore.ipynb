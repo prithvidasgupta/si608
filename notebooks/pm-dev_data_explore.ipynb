{
 "cells": [
  {
   "cell_type": "code",
   "execution_count": 22,
   "metadata": {
    "ExecuteTime": {
     "end_time": "2023-11-20T19:46:15.101276Z",
     "start_time": "2023-11-20T19:46:15.098310Z"
    }
   },
   "outputs": [],
   "source": [
    "import pandas as pd"
   ]
  },
  {
   "cell_type": "code",
   "execution_count": 23,
   "metadata": {
    "ExecuteTime": {
     "end_time": "2023-11-20T19:46:33.330543Z",
     "start_time": "2023-11-20T19:46:15.104096Z"
    }
   },
   "outputs": [],
   "source": [
    "headers = [\"prev\", \"curr\", \"type\", \"n\"]\n",
    "clicks202201 = pd.read_csv(\"../data/clickstream-enwiki-2022-01.tsv\", sep=\"\\t\", names=headers)"
   ]
  },
  {
   "cell_type": "code",
   "execution_count": 24,
   "metadata": {
    "ExecuteTime": {
     "end_time": "2023-11-20T19:46:33.339329Z",
     "start_time": "2023-11-20T19:46:33.333716Z"
    }
   },
   "outputs": [
    {
     "data": {
      "text/plain": "             prev                      curr      type    n\n0       BCD_Group                    Travix      link   25\n1     other-empty                    Travix  external  137\n2    other-search                    Travix  external  496\n3  other-internal  Ministry_of_the_Treasury  external   40\n4       Daijō-kan  Ministry_of_the_Treasury      link   10",
      "text/html": "<div>\n<style scoped>\n    .dataframe tbody tr th:only-of-type {\n        vertical-align: middle;\n    }\n\n    .dataframe tbody tr th {\n        vertical-align: top;\n    }\n\n    .dataframe thead th {\n        text-align: right;\n    }\n</style>\n<table border=\"1\" class=\"dataframe\">\n  <thead>\n    <tr style=\"text-align: right;\">\n      <th></th>\n      <th>prev</th>\n      <th>curr</th>\n      <th>type</th>\n      <th>n</th>\n    </tr>\n  </thead>\n  <tbody>\n    <tr>\n      <th>0</th>\n      <td>BCD_Group</td>\n      <td>Travix</td>\n      <td>link</td>\n      <td>25</td>\n    </tr>\n    <tr>\n      <th>1</th>\n      <td>other-empty</td>\n      <td>Travix</td>\n      <td>external</td>\n      <td>137</td>\n    </tr>\n    <tr>\n      <th>2</th>\n      <td>other-search</td>\n      <td>Travix</td>\n      <td>external</td>\n      <td>496</td>\n    </tr>\n    <tr>\n      <th>3</th>\n      <td>other-internal</td>\n      <td>Ministry_of_the_Treasury</td>\n      <td>external</td>\n      <td>40</td>\n    </tr>\n    <tr>\n      <th>4</th>\n      <td>Daijō-kan</td>\n      <td>Ministry_of_the_Treasury</td>\n      <td>link</td>\n      <td>10</td>\n    </tr>\n  </tbody>\n</table>\n</div>"
     },
     "execution_count": 24,
     "metadata": {},
     "output_type": "execute_result"
    }
   ],
   "source": [
    "clicks202201.head(5)"
   ]
  },
  {
   "cell_type": "code",
   "execution_count": 25,
   "metadata": {
    "ExecuteTime": {
     "end_time": "2023-11-20T19:46:34.995306Z",
     "start_time": "2023-11-20T19:46:34.941569Z"
    }
   },
   "outputs": [
    {
     "name": "stdout",
     "output_type": "stream",
     "text": [
      "Length: 32272816\n",
      "Nulls: 77\n",
      "<class 'pandas.core.frame.DataFrame'>\n",
      "RangeIndex: 32272816 entries, 0 to 32272815\n",
      "Data columns (total 4 columns):\n",
      " #   Column  Dtype \n",
      "---  ------  ----- \n",
      " 0   prev    object\n",
      " 1   curr    object\n",
      " 2   type    object\n",
      " 3   n       int64 \n",
      "dtypes: int64(1), object(3)\n",
      "memory usage: 984.9+ MB\n"
     ]
    }
   ],
   "source": [
    "print(f\"Length: {len(clicks202201)}\")\n",
    "print(f\"Nulls: {clicks202201.isna().sum().sum()}\")\n",
    "clicks202201.info()"
   ]
  },
  {
   "cell_type": "code",
   "execution_count": 32,
   "metadata": {
    "ExecuteTime": {
     "end_time": "2023-11-20T19:47:20.083165Z",
     "start_time": "2023-11-20T19:47:17.453119Z"
    }
   },
   "outputs": [],
   "source": [
    "clicks202201.dropna(inplace=True)\n",
    "ua_prev = clicks202201[clicks202201['curr'] == 'Travix']\n",
    "ua_curr = clicks202201[clicks202201['prev'] == 'Russian invasion of Ukraine']"
   ]
  },
  {
   "cell_type": "code",
   "execution_count": 33,
   "metadata": {
    "ExecuteTime": {
     "end_time": "2023-11-20T19:47:21.710989Z",
     "start_time": "2023-11-20T19:47:21.706287Z"
    }
   },
   "outputs": [
    {
     "name": "stdout",
     "output_type": "stream",
     "text": [
      "ua_prev length: 3\n",
      "ua_curr length: 0\n"
     ]
    }
   ],
   "source": [
    "print(f\"ua_prev length: {len(ua_prev)}\")\n",
    "print(f\"ua_curr length: {len(ua_curr)}\")"
   ]
  },
  {
   "cell_type": "code",
   "execution_count": 28,
   "metadata": {
    "ExecuteTime": {
     "end_time": "2023-11-20T19:46:39.638092Z",
     "start_time": "2023-11-20T19:46:39.635544Z"
    }
   },
   "outputs": [
    {
     "data": {
      "text/plain": "Empty DataFrame\nColumns: [prev, curr, type, n]\nIndex: []",
      "text/html": "<div>\n<style scoped>\n    .dataframe tbody tr th:only-of-type {\n        vertical-align: middle;\n    }\n\n    .dataframe tbody tr th {\n        vertical-align: top;\n    }\n\n    .dataframe thead th {\n        text-align: right;\n    }\n</style>\n<table border=\"1\" class=\"dataframe\">\n  <thead>\n    <tr style=\"text-align: right;\">\n      <th></th>\n      <th>prev</th>\n      <th>curr</th>\n      <th>type</th>\n      <th>n</th>\n    </tr>\n  </thead>\n  <tbody>\n  </tbody>\n</table>\n</div>"
     },
     "execution_count": 28,
     "metadata": {},
     "output_type": "execute_result"
    }
   ],
   "source": [
    "ua_curr.sort_values(by=\"n\", axis=0, ascending=False)[:50]"
   ]
  },
  {
   "cell_type": "code",
   "execution_count": 34,
   "outputs": [
    {
     "data": {
      "text/plain": "                n\ncount    3.000000\nmean   219.333333\nstd    246.057581\nmin     25.000000\n25%     81.000000\n50%    137.000000\n75%    316.500000\nmax    496.000000",
      "text/html": "<div>\n<style scoped>\n    .dataframe tbody tr th:only-of-type {\n        vertical-align: middle;\n    }\n\n    .dataframe tbody tr th {\n        vertical-align: top;\n    }\n\n    .dataframe thead th {\n        text-align: right;\n    }\n</style>\n<table border=\"1\" class=\"dataframe\">\n  <thead>\n    <tr style=\"text-align: right;\">\n      <th></th>\n      <th>n</th>\n    </tr>\n  </thead>\n  <tbody>\n    <tr>\n      <th>count</th>\n      <td>3.000000</td>\n    </tr>\n    <tr>\n      <th>mean</th>\n      <td>219.333333</td>\n    </tr>\n    <tr>\n      <th>std</th>\n      <td>246.057581</td>\n    </tr>\n    <tr>\n      <th>min</th>\n      <td>25.000000</td>\n    </tr>\n    <tr>\n      <th>25%</th>\n      <td>81.000000</td>\n    </tr>\n    <tr>\n      <th>50%</th>\n      <td>137.000000</td>\n    </tr>\n    <tr>\n      <th>75%</th>\n      <td>316.500000</td>\n    </tr>\n    <tr>\n      <th>max</th>\n      <td>496.000000</td>\n    </tr>\n  </tbody>\n</table>\n</div>"
     },
     "execution_count": 34,
     "metadata": {},
     "output_type": "execute_result"
    }
   ],
   "source": [
    "ua_prev.describe()"
   ],
   "metadata": {
    "collapsed": false,
    "ExecuteTime": {
     "end_time": "2023-11-20T19:47:50.805473Z",
     "start_time": "2023-11-20T19:47:50.796639Z"
    }
   }
  },
  {
   "cell_type": "code",
   "execution_count": 29,
   "metadata": {
    "ExecuteTime": {
     "end_time": "2023-11-20T19:46:39.641060Z",
     "start_time": "2023-11-20T19:46:39.638226Z"
    }
   },
   "outputs": [],
   "source": [
    "# Gaza–Israel conflict\n",
    "# Russian invasion of Ukraine\n",
    "# 2017 - 2023: clickstream prev and curr"
   ]
  }
 ],
 "metadata": {
  "kernelspec": {
   "display_name": "si608",
   "language": "python",
   "name": "python3"
  },
  "language_info": {
   "codemirror_mode": {
    "name": "ipython",
    "version": 3
   },
   "file_extension": ".py",
   "mimetype": "text/x-python",
   "name": "python",
   "nbconvert_exporter": "python",
   "pygments_lexer": "ipython3",
   "version": "3.11.5"
  },
  "orig_nbformat": 4
 },
 "nbformat": 4,
 "nbformat_minor": 2
}
