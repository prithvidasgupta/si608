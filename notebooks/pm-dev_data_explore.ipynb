{
 "cells": [
  {
   "cell_type": "code",
   "execution_count": 18,
   "metadata": {
    "ExecuteTime": {
     "end_time": "2023-11-24T16:37:11.531067Z",
     "start_time": "2023-11-24T16:37:11.519968Z"
    }
   },
   "outputs": [],
   "source": [
    "import pandas as pd\n",
    "import networkx as nx\n",
    "import matplotlib.pyplot as plt \n"
   ]
  },
  {
   "cell_type": "code",
   "execution_count": 19,
   "metadata": {
    "ExecuteTime": {
     "end_time": "2023-11-24T16:37:29.059842Z",
     "start_time": "2023-11-24T16:37:11.526169Z"
    }
   },
   "outputs": [],
   "source": [
    "headers = [\"prev\", \"curr\", \"type\", \"n\"]\n",
    "clicks202303 = pd.read_csv(\"../data/clickstream-enwiki-2023-03.tsv\", sep=\"\\t\", names=headers)"
   ]
  },
  {
   "cell_type": "code",
   "execution_count": 20,
   "metadata": {
    "ExecuteTime": {
     "end_time": "2023-11-24T16:37:29.066018Z",
     "start_time": "2023-11-24T16:37:29.061397Z"
    }
   },
   "outputs": [
    {
     "data": {
      "text/plain": "                                         prev                      curr  \\\n0                2023_Baltimore_Ravens_season            Shemar_Bridges   \n1       Indiana_Jones_and_the_Dial_of_Destiny  Avatar:_The_Way_of_Water   \n2                                other-search            Shemar_Bridges   \n3  List_of_West_Bromwich_Albion_F.C._managers              Brian_Talbot   \n4            List_of_current_AFC_team_rosters            Shemar_Bridges   \n\n       type     n  \n0      link  66.0  \n1     other  39.0  \n2  external  80.0  \n3      link  28.0  \n4      link  20.0  ",
      "text/html": "<div>\n<style scoped>\n    .dataframe tbody tr th:only-of-type {\n        vertical-align: middle;\n    }\n\n    .dataframe tbody tr th {\n        vertical-align: top;\n    }\n\n    .dataframe thead th {\n        text-align: right;\n    }\n</style>\n<table border=\"1\" class=\"dataframe\">\n  <thead>\n    <tr style=\"text-align: right;\">\n      <th></th>\n      <th>prev</th>\n      <th>curr</th>\n      <th>type</th>\n      <th>n</th>\n    </tr>\n  </thead>\n  <tbody>\n    <tr>\n      <th>0</th>\n      <td>2023_Baltimore_Ravens_season</td>\n      <td>Shemar_Bridges</td>\n      <td>link</td>\n      <td>66.0</td>\n    </tr>\n    <tr>\n      <th>1</th>\n      <td>Indiana_Jones_and_the_Dial_of_Destiny</td>\n      <td>Avatar:_The_Way_of_Water</td>\n      <td>other</td>\n      <td>39.0</td>\n    </tr>\n    <tr>\n      <th>2</th>\n      <td>other-search</td>\n      <td>Shemar_Bridges</td>\n      <td>external</td>\n      <td>80.0</td>\n    </tr>\n    <tr>\n      <th>3</th>\n      <td>List_of_West_Bromwich_Albion_F.C._managers</td>\n      <td>Brian_Talbot</td>\n      <td>link</td>\n      <td>28.0</td>\n    </tr>\n    <tr>\n      <th>4</th>\n      <td>List_of_current_AFC_team_rosters</td>\n      <td>Shemar_Bridges</td>\n      <td>link</td>\n      <td>20.0</td>\n    </tr>\n  </tbody>\n</table>\n</div>"
     },
     "execution_count": 20,
     "metadata": {},
     "output_type": "execute_result"
    }
   ],
   "source": [
    "clicks202303.head(5)"
   ]
  },
  {
   "cell_type": "code",
   "execution_count": 21,
   "metadata": {
    "ExecuteTime": {
     "end_time": "2023-11-24T16:37:30.749697Z",
     "start_time": "2023-11-24T16:37:29.064225Z"
    }
   },
   "outputs": [
    {
     "name": "stdout",
     "output_type": "stream",
     "text": [
      "Length: 33391772\n",
      "Nulls: 88\n",
      "<class 'pandas.core.frame.DataFrame'>\n",
      "RangeIndex: 33391772 entries, 0 to 33391771\n",
      "Data columns (total 4 columns):\n",
      " #   Column  Dtype  \n",
      "---  ------  -----  \n",
      " 0   prev    object \n",
      " 1   curr    object \n",
      " 2   type    object \n",
      " 3   n       float64\n",
      "dtypes: float64(1), object(3)\n",
      "memory usage: 1019.0+ MB\n"
     ]
    }
   ],
   "source": [
    "print(f\"Length: {len(clicks202303)}\")\n",
    "print(f\"Nulls: {clicks202303.isna().sum().sum()}\")\n",
    "clicks202303.info()"
   ]
  },
  {
   "cell_type": "code",
   "execution_count": 22,
   "metadata": {
    "ExecuteTime": {
     "end_time": "2023-11-24T16:37:35.170749Z",
     "start_time": "2023-11-24T16:37:32.338915Z"
    }
   },
   "outputs": [],
   "source": [
    "clicks202303.dropna(inplace=True)\n",
    "ua_prev = clicks202303[clicks202303['curr'] == 'Russian_invasion_of_Ukraine']\n",
    "ua_curr = clicks202303[clicks202303['prev'] == 'Russian_invasion_of_Ukraine']"
   ]
  },
  {
   "cell_type": "code",
   "execution_count": 23,
   "metadata": {
    "ExecuteTime": {
     "end_time": "2023-11-24T16:37:35.184475Z",
     "start_time": "2023-11-24T16:37:35.171200Z"
    }
   },
   "outputs": [
    {
     "name": "stdout",
     "output_type": "stream",
     "text": [
      "ua_prev length: 2657\n",
      "ua_curr length: 572\n"
     ]
    }
   ],
   "source": [
    "print(f\"ua_prev length: {len(ua_prev)}\")\n",
    "print(f\"ua_curr length: {len(ua_curr)}\")"
   ]
  },
  {
   "cell_type": "code",
   "execution_count": 24,
   "metadata": {
    "ExecuteTime": {
     "end_time": "2023-11-24T16:37:35.185167Z",
     "start_time": "2023-11-24T16:37:35.173722Z"
    }
   },
   "outputs": [
    {
     "data": {
      "text/plain": "                                 prev  \\\n24427619  Russian_invasion_of_Ukraine   \n18702221  Russian_invasion_of_Ukraine   \n16788488  Russian_invasion_of_Ukraine   \n23113637  Russian_invasion_of_Ukraine   \n9481243   Russian_invasion_of_Ukraine   \n31252763  Russian_invasion_of_Ukraine   \n8086764   Russian_invasion_of_Ukraine   \n31978292  Russian_invasion_of_Ukraine   \n29467903  Russian_invasion_of_Ukraine   \n10569448  Russian_invasion_of_Ukraine   \n7859927   Russian_invasion_of_Ukraine   \n14633229  Russian_invasion_of_Ukraine   \n346145    Russian_invasion_of_Ukraine   \n21817272  Russian_invasion_of_Ukraine   \n208100    Russian_invasion_of_Ukraine   \n16542239  Russian_invasion_of_Ukraine   \n27999487  Russian_invasion_of_Ukraine   \n28205257  Russian_invasion_of_Ukraine   \n22952129  Russian_invasion_of_Ukraine   \n20786079  Russian_invasion_of_Ukraine   \n20845949  Russian_invasion_of_Ukraine   \n20315113  Russian_invasion_of_Ukraine   \n17797277  Russian_invasion_of_Ukraine   \n8561140   Russian_invasion_of_Ukraine   \n17343170  Russian_invasion_of_Ukraine   \n1398246   Russian_invasion_of_Ukraine   \n20876865  Russian_invasion_of_Ukraine   \n4557394   Russian_invasion_of_Ukraine   \n30210765  Russian_invasion_of_Ukraine   \n27694991  Russian_invasion_of_Ukraine   \n31355409  Russian_invasion_of_Ukraine   \n16279314  Russian_invasion_of_Ukraine   \n31341788  Russian_invasion_of_Ukraine   \n13230359  Russian_invasion_of_Ukraine   \n30300340  Russian_invasion_of_Ukraine   \n13452419  Russian_invasion_of_Ukraine   \n390464    Russian_invasion_of_Ukraine   \n17039797  Russian_invasion_of_Ukraine   \n23200007  Russian_invasion_of_Ukraine   \n20496366  Russian_invasion_of_Ukraine   \n863873    Russian_invasion_of_Ukraine   \n423110    Russian_invasion_of_Ukraine   \n22091545  Russian_invasion_of_Ukraine   \n22982514  Russian_invasion_of_Ukraine   \n20188910  Russian_invasion_of_Ukraine   \n28646619  Russian_invasion_of_Ukraine   \n22126099  Russian_invasion_of_Ukraine   \n15111594  Russian_invasion_of_Ukraine   \n17177883  Russian_invasion_of_Ukraine   \n25990097  Russian_invasion_of_Ukraine   \n\n                                                       curr   type        n  \n24427619        Timeline_of_the_Russian_invasion_of_Ukraine   link  26303.0  \n18702221  List_of_military_engagements_during_the_Russia...   link  13179.0  \n16788488                                Russo-Ukrainian_War   link   8353.0  \n23113637  Order_of_battle_for_the_Russian_invasion_of_Uk...   link   7460.0  \n9481243               Casualties_of_the_Russo-Ukrainian_War   link   7336.0  \n31252763                                       Wagner_Group   link   5141.0  \n8086764   ICC_arrest_warrants_for_Vladimir_Putin_and_Mar...   link   4623.0  \n31978292                                  Battle_of_Bakhmut   link   4519.0  \n29467903                                          Main_Page  other   4132.0  \n10569448                                Volodymyr_Zelenskyy   link   3974.0  \n7859927                                      Vladimir_Putin   link   2970.0  \n14633229                          Donetsk_People's_Republic   link   2898.0  \n346145                   Outline_of_the_Russo-Ukrainian_War   link   2713.0  \n21817272                                            Ukraine   link   2578.0  \n208100    Territorial_control_during_the_Russo-Ukrainian...   link   2185.0  \n16542239                                             Russia   link   2127.0  \n27999487                          Luhansk_People's_Republic   link   2026.0  \n28205257       List_of_invasions_and_occupations_of_Ukraine   link   1951.0  \n22952129  Timeline_of_the_Russian_invasion_of_Ukraine:_P...   link   1873.0  \n20786079       Reactions_to_the_Russian_invasion_of_Ukraine   link   1809.0  \n20845949                                Russian_irredentism   link   1666.0  \n20315113  Foreign_involvement_in_the_Russian_invasion_of...   link   1647.0  \n17797277  Russian_annexation_of_Donetsk,_Kherson,_Luhans...   link   1525.0  \n8561140                                      Denazification   link   1488.0  \n17343170                                            Belarus   link   1480.0  \n1398246                     List_of_ongoing_armed_conflicts   link   1441.0  \n20876865             2022_Russia–Ukraine_peace_negotiations   link   1440.0  \n4557394                  2022–2023_Ukrainian_refugee_crisis   link   1392.0  \n30210765  List_of_Russian_generals_killed_during_the_Rus...   link   1290.0  \n27694991                 List_of_interstate_wars_since_1945   link   1254.0  \n31355409                   2022–2023_Western_Russia_attacks   link   1164.0  \n16279314                       International_Criminal_Court   link   1110.0  \n31341788                               Antonov_An-225_Mriya   link   1082.0  \n13230359  Disinformation_in_the_Russian_invasion_of_Ukraine   link    996.0  \n30300340                    Battle_of_Donbas_(2022–present)   link    860.0  \n13452419                              Kyiv_offensive_(2022)   link    855.0  \n390464                            Battle_of_Antonov_Airport   link    854.0  \n17039797         On_conducting_a_special_military_operation   link    851.0  \n23200007  Timeline_of_the_Russian_invasion_of_Ukraine:_P...   link    837.0  \n20496366                                         Euromaidan   link    822.0  \n863873                        2022_Kharkiv_counteroffensive   link    791.0  \n423110                                    Siege_of_Mariupol   link    765.0  \n22091545      Assassination_attempts_on_Volodymyr_Zelenskyy   link    761.0  \n22982514  United_Nations_General_Assembly_Resolution_ES-...   link    754.0  \n20188910                     List_of_largest_refugee_crises   link    740.0  \n28646619  Corporate_responses_to_the_Russian_invasion_of...   link    670.0  \n22126099                            Armed_Forces_of_Ukraine   link    659.0  \n15111594                            Mobilization_in_Ukraine   link    652.0  \n17177883                                        Martial_law   link    630.0  \n25990097         Prelude_to_the_Russian_invasion_of_Ukraine   link    627.0  ",
      "text/html": "<div>\n<style scoped>\n    .dataframe tbody tr th:only-of-type {\n        vertical-align: middle;\n    }\n\n    .dataframe tbody tr th {\n        vertical-align: top;\n    }\n\n    .dataframe thead th {\n        text-align: right;\n    }\n</style>\n<table border=\"1\" class=\"dataframe\">\n  <thead>\n    <tr style=\"text-align: right;\">\n      <th></th>\n      <th>prev</th>\n      <th>curr</th>\n      <th>type</th>\n      <th>n</th>\n    </tr>\n  </thead>\n  <tbody>\n    <tr>\n      <th>24427619</th>\n      <td>Russian_invasion_of_Ukraine</td>\n      <td>Timeline_of_the_Russian_invasion_of_Ukraine</td>\n      <td>link</td>\n      <td>26303.0</td>\n    </tr>\n    <tr>\n      <th>18702221</th>\n      <td>Russian_invasion_of_Ukraine</td>\n      <td>List_of_military_engagements_during_the_Russia...</td>\n      <td>link</td>\n      <td>13179.0</td>\n    </tr>\n    <tr>\n      <th>16788488</th>\n      <td>Russian_invasion_of_Ukraine</td>\n      <td>Russo-Ukrainian_War</td>\n      <td>link</td>\n      <td>8353.0</td>\n    </tr>\n    <tr>\n      <th>23113637</th>\n      <td>Russian_invasion_of_Ukraine</td>\n      <td>Order_of_battle_for_the_Russian_invasion_of_Uk...</td>\n      <td>link</td>\n      <td>7460.0</td>\n    </tr>\n    <tr>\n      <th>9481243</th>\n      <td>Russian_invasion_of_Ukraine</td>\n      <td>Casualties_of_the_Russo-Ukrainian_War</td>\n      <td>link</td>\n      <td>7336.0</td>\n    </tr>\n    <tr>\n      <th>31252763</th>\n      <td>Russian_invasion_of_Ukraine</td>\n      <td>Wagner_Group</td>\n      <td>link</td>\n      <td>5141.0</td>\n    </tr>\n    <tr>\n      <th>8086764</th>\n      <td>Russian_invasion_of_Ukraine</td>\n      <td>ICC_arrest_warrants_for_Vladimir_Putin_and_Mar...</td>\n      <td>link</td>\n      <td>4623.0</td>\n    </tr>\n    <tr>\n      <th>31978292</th>\n      <td>Russian_invasion_of_Ukraine</td>\n      <td>Battle_of_Bakhmut</td>\n      <td>link</td>\n      <td>4519.0</td>\n    </tr>\n    <tr>\n      <th>29467903</th>\n      <td>Russian_invasion_of_Ukraine</td>\n      <td>Main_Page</td>\n      <td>other</td>\n      <td>4132.0</td>\n    </tr>\n    <tr>\n      <th>10569448</th>\n      <td>Russian_invasion_of_Ukraine</td>\n      <td>Volodymyr_Zelenskyy</td>\n      <td>link</td>\n      <td>3974.0</td>\n    </tr>\n    <tr>\n      <th>7859927</th>\n      <td>Russian_invasion_of_Ukraine</td>\n      <td>Vladimir_Putin</td>\n      <td>link</td>\n      <td>2970.0</td>\n    </tr>\n    <tr>\n      <th>14633229</th>\n      <td>Russian_invasion_of_Ukraine</td>\n      <td>Donetsk_People's_Republic</td>\n      <td>link</td>\n      <td>2898.0</td>\n    </tr>\n    <tr>\n      <th>346145</th>\n      <td>Russian_invasion_of_Ukraine</td>\n      <td>Outline_of_the_Russo-Ukrainian_War</td>\n      <td>link</td>\n      <td>2713.0</td>\n    </tr>\n    <tr>\n      <th>21817272</th>\n      <td>Russian_invasion_of_Ukraine</td>\n      <td>Ukraine</td>\n      <td>link</td>\n      <td>2578.0</td>\n    </tr>\n    <tr>\n      <th>208100</th>\n      <td>Russian_invasion_of_Ukraine</td>\n      <td>Territorial_control_during_the_Russo-Ukrainian...</td>\n      <td>link</td>\n      <td>2185.0</td>\n    </tr>\n    <tr>\n      <th>16542239</th>\n      <td>Russian_invasion_of_Ukraine</td>\n      <td>Russia</td>\n      <td>link</td>\n      <td>2127.0</td>\n    </tr>\n    <tr>\n      <th>27999487</th>\n      <td>Russian_invasion_of_Ukraine</td>\n      <td>Luhansk_People's_Republic</td>\n      <td>link</td>\n      <td>2026.0</td>\n    </tr>\n    <tr>\n      <th>28205257</th>\n      <td>Russian_invasion_of_Ukraine</td>\n      <td>List_of_invasions_and_occupations_of_Ukraine</td>\n      <td>link</td>\n      <td>1951.0</td>\n    </tr>\n    <tr>\n      <th>22952129</th>\n      <td>Russian_invasion_of_Ukraine</td>\n      <td>Timeline_of_the_Russian_invasion_of_Ukraine:_P...</td>\n      <td>link</td>\n      <td>1873.0</td>\n    </tr>\n    <tr>\n      <th>20786079</th>\n      <td>Russian_invasion_of_Ukraine</td>\n      <td>Reactions_to_the_Russian_invasion_of_Ukraine</td>\n      <td>link</td>\n      <td>1809.0</td>\n    </tr>\n    <tr>\n      <th>20845949</th>\n      <td>Russian_invasion_of_Ukraine</td>\n      <td>Russian_irredentism</td>\n      <td>link</td>\n      <td>1666.0</td>\n    </tr>\n    <tr>\n      <th>20315113</th>\n      <td>Russian_invasion_of_Ukraine</td>\n      <td>Foreign_involvement_in_the_Russian_invasion_of...</td>\n      <td>link</td>\n      <td>1647.0</td>\n    </tr>\n    <tr>\n      <th>17797277</th>\n      <td>Russian_invasion_of_Ukraine</td>\n      <td>Russian_annexation_of_Donetsk,_Kherson,_Luhans...</td>\n      <td>link</td>\n      <td>1525.0</td>\n    </tr>\n    <tr>\n      <th>8561140</th>\n      <td>Russian_invasion_of_Ukraine</td>\n      <td>Denazification</td>\n      <td>link</td>\n      <td>1488.0</td>\n    </tr>\n    <tr>\n      <th>17343170</th>\n      <td>Russian_invasion_of_Ukraine</td>\n      <td>Belarus</td>\n      <td>link</td>\n      <td>1480.0</td>\n    </tr>\n    <tr>\n      <th>1398246</th>\n      <td>Russian_invasion_of_Ukraine</td>\n      <td>List_of_ongoing_armed_conflicts</td>\n      <td>link</td>\n      <td>1441.0</td>\n    </tr>\n    <tr>\n      <th>20876865</th>\n      <td>Russian_invasion_of_Ukraine</td>\n      <td>2022_Russia–Ukraine_peace_negotiations</td>\n      <td>link</td>\n      <td>1440.0</td>\n    </tr>\n    <tr>\n      <th>4557394</th>\n      <td>Russian_invasion_of_Ukraine</td>\n      <td>2022–2023_Ukrainian_refugee_crisis</td>\n      <td>link</td>\n      <td>1392.0</td>\n    </tr>\n    <tr>\n      <th>30210765</th>\n      <td>Russian_invasion_of_Ukraine</td>\n      <td>List_of_Russian_generals_killed_during_the_Rus...</td>\n      <td>link</td>\n      <td>1290.0</td>\n    </tr>\n    <tr>\n      <th>27694991</th>\n      <td>Russian_invasion_of_Ukraine</td>\n      <td>List_of_interstate_wars_since_1945</td>\n      <td>link</td>\n      <td>1254.0</td>\n    </tr>\n    <tr>\n      <th>31355409</th>\n      <td>Russian_invasion_of_Ukraine</td>\n      <td>2022–2023_Western_Russia_attacks</td>\n      <td>link</td>\n      <td>1164.0</td>\n    </tr>\n    <tr>\n      <th>16279314</th>\n      <td>Russian_invasion_of_Ukraine</td>\n      <td>International_Criminal_Court</td>\n      <td>link</td>\n      <td>1110.0</td>\n    </tr>\n    <tr>\n      <th>31341788</th>\n      <td>Russian_invasion_of_Ukraine</td>\n      <td>Antonov_An-225_Mriya</td>\n      <td>link</td>\n      <td>1082.0</td>\n    </tr>\n    <tr>\n      <th>13230359</th>\n      <td>Russian_invasion_of_Ukraine</td>\n      <td>Disinformation_in_the_Russian_invasion_of_Ukraine</td>\n      <td>link</td>\n      <td>996.0</td>\n    </tr>\n    <tr>\n      <th>30300340</th>\n      <td>Russian_invasion_of_Ukraine</td>\n      <td>Battle_of_Donbas_(2022–present)</td>\n      <td>link</td>\n      <td>860.0</td>\n    </tr>\n    <tr>\n      <th>13452419</th>\n      <td>Russian_invasion_of_Ukraine</td>\n      <td>Kyiv_offensive_(2022)</td>\n      <td>link</td>\n      <td>855.0</td>\n    </tr>\n    <tr>\n      <th>390464</th>\n      <td>Russian_invasion_of_Ukraine</td>\n      <td>Battle_of_Antonov_Airport</td>\n      <td>link</td>\n      <td>854.0</td>\n    </tr>\n    <tr>\n      <th>17039797</th>\n      <td>Russian_invasion_of_Ukraine</td>\n      <td>On_conducting_a_special_military_operation</td>\n      <td>link</td>\n      <td>851.0</td>\n    </tr>\n    <tr>\n      <th>23200007</th>\n      <td>Russian_invasion_of_Ukraine</td>\n      <td>Timeline_of_the_Russian_invasion_of_Ukraine:_P...</td>\n      <td>link</td>\n      <td>837.0</td>\n    </tr>\n    <tr>\n      <th>20496366</th>\n      <td>Russian_invasion_of_Ukraine</td>\n      <td>Euromaidan</td>\n      <td>link</td>\n      <td>822.0</td>\n    </tr>\n    <tr>\n      <th>863873</th>\n      <td>Russian_invasion_of_Ukraine</td>\n      <td>2022_Kharkiv_counteroffensive</td>\n      <td>link</td>\n      <td>791.0</td>\n    </tr>\n    <tr>\n      <th>423110</th>\n      <td>Russian_invasion_of_Ukraine</td>\n      <td>Siege_of_Mariupol</td>\n      <td>link</td>\n      <td>765.0</td>\n    </tr>\n    <tr>\n      <th>22091545</th>\n      <td>Russian_invasion_of_Ukraine</td>\n      <td>Assassination_attempts_on_Volodymyr_Zelenskyy</td>\n      <td>link</td>\n      <td>761.0</td>\n    </tr>\n    <tr>\n      <th>22982514</th>\n      <td>Russian_invasion_of_Ukraine</td>\n      <td>United_Nations_General_Assembly_Resolution_ES-...</td>\n      <td>link</td>\n      <td>754.0</td>\n    </tr>\n    <tr>\n      <th>20188910</th>\n      <td>Russian_invasion_of_Ukraine</td>\n      <td>List_of_largest_refugee_crises</td>\n      <td>link</td>\n      <td>740.0</td>\n    </tr>\n    <tr>\n      <th>28646619</th>\n      <td>Russian_invasion_of_Ukraine</td>\n      <td>Corporate_responses_to_the_Russian_invasion_of...</td>\n      <td>link</td>\n      <td>670.0</td>\n    </tr>\n    <tr>\n      <th>22126099</th>\n      <td>Russian_invasion_of_Ukraine</td>\n      <td>Armed_Forces_of_Ukraine</td>\n      <td>link</td>\n      <td>659.0</td>\n    </tr>\n    <tr>\n      <th>15111594</th>\n      <td>Russian_invasion_of_Ukraine</td>\n      <td>Mobilization_in_Ukraine</td>\n      <td>link</td>\n      <td>652.0</td>\n    </tr>\n    <tr>\n      <th>17177883</th>\n      <td>Russian_invasion_of_Ukraine</td>\n      <td>Martial_law</td>\n      <td>link</td>\n      <td>630.0</td>\n    </tr>\n    <tr>\n      <th>25990097</th>\n      <td>Russian_invasion_of_Ukraine</td>\n      <td>Prelude_to_the_Russian_invasion_of_Ukraine</td>\n      <td>link</td>\n      <td>627.0</td>\n    </tr>\n  </tbody>\n</table>\n</div>"
     },
     "execution_count": 24,
     "metadata": {},
     "output_type": "execute_result"
    }
   ],
   "source": [
    "ua_curr.sort_values(by=\"n\", axis=0, ascending=False)[:50]"
   ]
  },
  {
   "cell_type": "code",
   "execution_count": 25,
   "outputs": [
    {
     "data": {
      "text/plain": "                   n\ncount    2657.000000\nmean      472.970267\nstd      9173.930777\nmin        10.000000\n25%        15.000000\n50%        25.000000\n75%        65.000000\nmax    328720.000000",
      "text/html": "<div>\n<style scoped>\n    .dataframe tbody tr th:only-of-type {\n        vertical-align: middle;\n    }\n\n    .dataframe tbody tr th {\n        vertical-align: top;\n    }\n\n    .dataframe thead th {\n        text-align: right;\n    }\n</style>\n<table border=\"1\" class=\"dataframe\">\n  <thead>\n    <tr style=\"text-align: right;\">\n      <th></th>\n      <th>n</th>\n    </tr>\n  </thead>\n  <tbody>\n    <tr>\n      <th>count</th>\n      <td>2657.000000</td>\n    </tr>\n    <tr>\n      <th>mean</th>\n      <td>472.970267</td>\n    </tr>\n    <tr>\n      <th>std</th>\n      <td>9173.930777</td>\n    </tr>\n    <tr>\n      <th>min</th>\n      <td>10.000000</td>\n    </tr>\n    <tr>\n      <th>25%</th>\n      <td>15.000000</td>\n    </tr>\n    <tr>\n      <th>50%</th>\n      <td>25.000000</td>\n    </tr>\n    <tr>\n      <th>75%</th>\n      <td>65.000000</td>\n    </tr>\n    <tr>\n      <th>max</th>\n      <td>328720.000000</td>\n    </tr>\n  </tbody>\n</table>\n</div>"
     },
     "execution_count": 25,
     "metadata": {},
     "output_type": "execute_result"
    }
   ],
   "source": [
    "ua_prev.describe()"
   ],
   "metadata": {
    "collapsed": false,
    "ExecuteTime": {
     "end_time": "2023-11-24T16:37:35.186040Z",
     "start_time": "2023-11-24T16:37:35.181743Z"
    }
   }
  },
  {
   "cell_type": "code",
   "execution_count": 26,
   "metadata": {
    "ExecuteTime": {
     "end_time": "2023-11-24T16:37:35.195434Z",
     "start_time": "2023-11-24T16:37:35.185637Z"
    }
   },
   "outputs": [],
   "source": [
    "# Gaza–Israel conflict\n",
    "# Russian invasion of Ukraine\n",
    "# 2017 - 2023: clickstream prev and curr"
   ]
  },
  {
   "cell_type": "code",
   "execution_count": 27,
   "outputs": [
    {
     "data": {
      "text/plain": "<Figure size 640x480 with 1 Axes>",
      "image/png": "[encoded data removed]"
     },
     "metadata": {},
     "output_type": "display_data"
    }
   ],
   "source": [
    "\n",
    "# Create a tripartite graph\n",
    "G = nx.Graph()\n",
    "G.add_nodes_from(['A1', 'A2', 'A3'], bipartite=0)  # First partition\n",
    "G.add_nodes_from(['B1', 'B2', 'B3'], bipartite=1)  # Second partition\n",
    "G.add_nodes_from(['C1', 'C2', 'C3'], bipartite=2)  # Third partition\n",
    "G.add_edges_from([('A1', 'B1'), ('A2', 'B2'), ('A3', 'B3')])\n",
    "G.add_edges_from([('B1', 'C1'), ('B2', 'C2'), ('B3', 'C3')])\n",
    "\n",
    "# Use bipartite layout for the first two partitions\n",
    "pos = {node: (0, i) for i, node in enumerate(['A1', 'A2', 'A3'])}\n",
    "pos.update({node: (1, i) for i, node in enumerate(['B1', 'B2', 'B3'])})\n",
    "pos.update({node: (2, i) for i, node in enumerate(['C1', 'C2', 'C3'])})\n",
    "\n",
    "# Draw the tripartite graph\n",
    "nx.draw(G, pos, with_labels=True, font_weight='bold')\n",
    "plt.show()"
   ],
   "metadata": {
    "collapsed": false,
    "ExecuteTime": {
     "end_time": "2023-11-24T16:37:35.261983Z",
     "start_time": "2023-11-24T16:37:35.191955Z"
    }
   }
  },
  {
   "cell_type": "code",
   "execution_count": 27,
   "outputs": [],
   "source": [],
   "metadata": {
    "collapsed": false,
    "ExecuteTime": {
     "end_time": "2023-11-24T16:37:35.262107Z",
     "start_time": "2023-11-24T16:37:35.232704Z"
    }
   }
  }
 ],
 "metadata": {
  "kernelspec": {
   "display_name": "si608",
   "language": "python",
   "name": "python3"
  },
  "language_info": {
   "codemirror_mode": {
    "name": "ipython",
    "version": 3
   },
   "file_extension": ".py",
   "mimetype": "text/x-python",
   "name": "python",
   "nbconvert_exporter": "python",
   "pygments_lexer": "ipython3",
   "version": "3.11.5"
  },
  "orig_nbformat": 4
 },
 "nbformat": 4,
 "nbformat_minor": 2
}
