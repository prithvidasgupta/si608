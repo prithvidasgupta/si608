{
 "cells": [
  {
   "cell_type": "markdown",
   "source": [
    "# Generate Network Stats"
   ],
   "metadata": {
    "collapsed": false
   },
   "id": "9e5aff018e3c3464"
  },
  {
   "cell_type": "code",
   "execution_count": 6,
   "outputs": [],
   "source": [
    "import networkx as nx\n",
    "import pandas as pd\n"
   ],
   "metadata": {
    "collapsed": false,
    "ExecuteTime": {
     "end_time": "2023-12-14T17:45:03.828578Z",
     "start_time": "2023-12-14T17:45:03.819203Z"
    }
   },
   "id": "640650541251e9d7"
  },
  {
   "cell_type": "code",
   "execution_count": 7,
   "outputs": [
    {
     "data": {
      "text/plain": "         Unnamed: 0                                prev  \\\n0                 0                               Epcot   \n1                 1                          Fantasmic!   \n2                 2   List_of_Super_Bowl_halftime_shows   \n3                 3                            FastPass   \n4                 4                    Super_Bowl_XXXIV   \n...             ...                                 ...   \n6484990     6484990                    John_von_Neumann   \n6484991     6484991   Saint_Petersburg_State_University   \n6484992     6484992                      George_Dantzig   \n6484993     6484993            _excess_external_adjust_   \n6484994     6484994  List_of_Nobel_laureates_by_country   \n\n                                        curr      type  clicks  \\\n0        IllumiNations:_Reflections_of_Earth      link     229   \n1        IllumiNations:_Reflections_of_Earth      link      12   \n2        IllumiNations:_Reflections_of_Earth      link      24   \n3        IllumiNations:_Reflections_of_Earth      link      14   \n4        IllumiNations:_Reflections_of_Earth      link      12   \n...                                      ...       ...     ...   \n6484990                   Leonid_Kantorovich      link      11   \n6484991                   Leonid_Kantorovich      link      13   \n6484992                   Leonid_Kantorovich      link      25   \n6484993                   Leonid_Kantorovich  external     421   \n6484994                   Leonid_Kantorovich      link      36   \n\n                                       page         total  \\\n0                                     Epcot  5.483300e+04   \n1                                Fantasmic!  7.384000e+03   \n2         List_of_Super_Bowl_halftime_shows  1.228820e+05   \n3                                  FastPass  3.680000e+03   \n4                          Super_Bowl_XXXIV  1.962090e+05   \n...                                     ...           ...   \n6484990                    John_von_Neumann  5.773100e+04   \n6484991   Saint_Petersburg_State_University  8.753000e+03   \n6484992                      George_Dantzig  1.069700e+04   \n6484993                          3559101988  3.559102e+09   \n6484994  List_of_Nobel_laureates_by_country  2.735600e+04   \n\n         transition_probability       i       j  \n0                  4.176317e-03   80347  208335  \n1                  1.625135e-03  230243  208335  \n2                  1.953093e-04   95108  208335  \n3                  3.804348e-03   52670  208335  \n4                  6.115927e-05  176724  208335  \n...                         ...     ...     ...  \n6484990            1.905389e-04  229163   17712  \n6484991            1.485205e-03   38108   17712  \n6484992            2.337104e-03  130496   17712  \n6484993            1.182883e-07   52807   17712  \n6484994            1.315982e-03  163752   17712  \n\n[6484995 rows x 10 columns]",
      "text/html": "<div>\n<style scoped>\n    .dataframe tbody tr th:only-of-type {\n        vertical-align: middle;\n    }\n\n    .dataframe tbody tr th {\n        vertical-align: top;\n    }\n\n    .dataframe thead th {\n        text-align: right;\n    }\n</style>\n<table border=\"1\" class=\"dataframe\">\n  <thead>\n    <tr style=\"text-align: right;\">\n      <th></th>\n      <th>Unnamed: 0</th>\n      <th>prev</th>\n      <th>curr</th>\n      <th>type</th>\n      <th>clicks</th>\n      <th>page</th>\n      <th>total</th>\n      <th>transition_probability</th>\n      <th>i</th>\n      <th>j</th>\n    </tr>\n  </thead>\n  <tbody>\n    <tr>\n      <th>0</th>\n      <td>0</td>\n      <td>Epcot</td>\n      <td>IllumiNations:_Reflections_of_Earth</td>\n      <td>link</td>\n      <td>229</td>\n      <td>Epcot</td>\n      <td>5.483300e+04</td>\n      <td>4.176317e-03</td>\n      <td>80347</td>\n      <td>208335</td>\n    </tr>\n    <tr>\n      <th>1</th>\n      <td>1</td>\n      <td>Fantasmic!</td>\n      <td>IllumiNations:_Reflections_of_Earth</td>\n      <td>link</td>\n      <td>12</td>\n      <td>Fantasmic!</td>\n      <td>7.384000e+03</td>\n      <td>1.625135e-03</td>\n      <td>230243</td>\n      <td>208335</td>\n    </tr>\n    <tr>\n      <th>2</th>\n      <td>2</td>\n      <td>List_of_Super_Bowl_halftime_shows</td>\n      <td>IllumiNations:_Reflections_of_Earth</td>\n      <td>link</td>\n      <td>24</td>\n      <td>List_of_Super_Bowl_halftime_shows</td>\n      <td>1.228820e+05</td>\n      <td>1.953093e-04</td>\n      <td>95108</td>\n      <td>208335</td>\n    </tr>\n    <tr>\n      <th>3</th>\n      <td>3</td>\n      <td>FastPass</td>\n      <td>IllumiNations:_Reflections_of_Earth</td>\n      <td>link</td>\n      <td>14</td>\n      <td>FastPass</td>\n      <td>3.680000e+03</td>\n      <td>3.804348e-03</td>\n      <td>52670</td>\n      <td>208335</td>\n    </tr>\n    <tr>\n      <th>4</th>\n      <td>4</td>\n      <td>Super_Bowl_XXXIV</td>\n      <td>IllumiNations:_Reflections_of_Earth</td>\n      <td>link</td>\n      <td>12</td>\n      <td>Super_Bowl_XXXIV</td>\n      <td>1.962090e+05</td>\n      <td>6.115927e-05</td>\n      <td>176724</td>\n      <td>208335</td>\n    </tr>\n    <tr>\n      <th>...</th>\n      <td>...</td>\n      <td>...</td>\n      <td>...</td>\n      <td>...</td>\n      <td>...</td>\n      <td>...</td>\n      <td>...</td>\n      <td>...</td>\n      <td>...</td>\n      <td>...</td>\n    </tr>\n    <tr>\n      <th>6484990</th>\n      <td>6484990</td>\n      <td>John_von_Neumann</td>\n      <td>Leonid_Kantorovich</td>\n      <td>link</td>\n      <td>11</td>\n      <td>John_von_Neumann</td>\n      <td>5.773100e+04</td>\n      <td>1.905389e-04</td>\n      <td>229163</td>\n      <td>17712</td>\n    </tr>\n    <tr>\n      <th>6484991</th>\n      <td>6484991</td>\n      <td>Saint_Petersburg_State_University</td>\n      <td>Leonid_Kantorovich</td>\n      <td>link</td>\n      <td>13</td>\n      <td>Saint_Petersburg_State_University</td>\n      <td>8.753000e+03</td>\n      <td>1.485205e-03</td>\n      <td>38108</td>\n      <td>17712</td>\n    </tr>\n    <tr>\n      <th>6484992</th>\n      <td>6484992</td>\n      <td>George_Dantzig</td>\n      <td>Leonid_Kantorovich</td>\n      <td>link</td>\n      <td>25</td>\n      <td>George_Dantzig</td>\n      <td>1.069700e+04</td>\n      <td>2.337104e-03</td>\n      <td>130496</td>\n      <td>17712</td>\n    </tr>\n    <tr>\n      <th>6484993</th>\n      <td>6484993</td>\n      <td>_excess_external_adjust_</td>\n      <td>Leonid_Kantorovich</td>\n      <td>external</td>\n      <td>421</td>\n      <td>3559101988</td>\n      <td>3.559102e+09</td>\n      <td>1.182883e-07</td>\n      <td>52807</td>\n      <td>17712</td>\n    </tr>\n    <tr>\n      <th>6484994</th>\n      <td>6484994</td>\n      <td>List_of_Nobel_laureates_by_country</td>\n      <td>Leonid_Kantorovich</td>\n      <td>link</td>\n      <td>36</td>\n      <td>List_of_Nobel_laureates_by_country</td>\n      <td>2.735600e+04</td>\n      <td>1.315982e-03</td>\n      <td>163752</td>\n      <td>17712</td>\n    </tr>\n  </tbody>\n</table>\n<p>6484995 rows × 10 columns</p>\n</div>"
     },
     "execution_count": 7,
     "metadata": {},
     "output_type": "execute_result"
    }
   ],
   "source": [
    "wiki_net_data = pd.read_csv(\"../output/random_walks/probability_dfs/2019-01_sept11_probability.csv\")\n",
    "wiki_net_data"
   ],
   "metadata": {
    "collapsed": false,
    "ExecuteTime": {
     "end_time": "2023-12-14T17:45:10.779839Z",
     "start_time": "2023-12-14T17:45:03.824307Z"
    }
   },
   "id": "67fc8ad37c095ce2"
  },
  {
   "cell_type": "code",
   "execution_count": 8,
   "outputs": [
    {
     "data": {
      "text/plain": "242913"
     },
     "execution_count": 8,
     "metadata": {},
     "output_type": "execute_result"
    }
   ],
   "source": [
    "wiki_net = nx.DiGraph()\n",
    "\n",
    "for index, row in wiki_net_data.iterrows():\n",
    "    wiki_net.add_edge(row[\"prev\"], row[\"curr\"], weight=row[\"clicks\"])\n"
   ],
   "metadata": {
    "collapsed": false,
    "ExecuteTime": {
     "end_time": "2023-12-14T17:46:56.907435Z",
     "start_time": "2023-12-14T17:45:10.973876Z"
    }
   },
   "id": "2f7ca31e396b3f87"
  },
  {
   "cell_type": "code",
   "execution_count": 12,
   "outputs": [],
   "source": [
    "h, a = nx.hits(wiki_net)\n",
    "\n",
    "hubs = pd.DataFrame.from_dict(h, columns=[\"hub_val\"], orient=\"index\")\n",
    "hubs.index.rename(\"page\", inplace=True)\n",
    "auths = pd.DataFrame.from_dict(a, columns=[\"auth_val\"], orient=\"index\")\n",
    "auths.index.rename(\"page\", inplace=True)"
   ],
   "metadata": {
    "collapsed": false,
    "ExecuteTime": {
     "end_time": "2023-12-14T17:56:15.574811Z",
     "start_time": "2023-12-14T17:56:04.084485Z"
    }
   },
   "id": "727723c7ac7b513b"
  },
  {
   "cell_type": "code",
   "execution_count": 13,
   "outputs": [
    {
     "data": {
      "text/plain": "                                                hub_val\npage                                                   \n_excess_external_adjust_                       0.786186\nMain_Page                                      0.016018\nAaliyah                                        0.002096\nGlass_(2019_film)                              0.001584\nSpider-Man:_Far_From_Home                      0.001077\n...                                                 ...\nThe_Swarm_(Schätzing_novel)                   -0.000000\nRaël                                          -0.000000\nGIC                                           -0.000000\nRandall_&_Hopkirk_(Deceased)_(2000_TV_series) -0.000000\nThomas_W._Hartmann                            -0.000000\n\n[242913 rows x 1 columns]",
      "text/html": "<div>\n<style scoped>\n    .dataframe tbody tr th:only-of-type {\n        vertical-align: middle;\n    }\n\n    .dataframe tbody tr th {\n        vertical-align: top;\n    }\n\n    .dataframe thead th {\n        text-align: right;\n    }\n</style>\n<table border=\"1\" class=\"dataframe\">\n  <thead>\n    <tr style=\"text-align: right;\">\n      <th></th>\n      <th>hub_val</th>\n    </tr>\n    <tr>\n      <th>page</th>\n      <th></th>\n    </tr>\n  </thead>\n  <tbody>\n    <tr>\n      <th>_excess_external_adjust_</th>\n      <td>0.786186</td>\n    </tr>\n    <tr>\n      <th>Main_Page</th>\n      <td>0.016018</td>\n    </tr>\n    <tr>\n      <th>Aaliyah</th>\n      <td>0.002096</td>\n    </tr>\n    <tr>\n      <th>Glass_(2019_film)</th>\n      <td>0.001584</td>\n    </tr>\n    <tr>\n      <th>Spider-Man:_Far_From_Home</th>\n      <td>0.001077</td>\n    </tr>\n    <tr>\n      <th>...</th>\n      <td>...</td>\n    </tr>\n    <tr>\n      <th>The_Swarm_(Schätzing_novel)</th>\n      <td>-0.000000</td>\n    </tr>\n    <tr>\n      <th>Raël</th>\n      <td>-0.000000</td>\n    </tr>\n    <tr>\n      <th>GIC</th>\n      <td>-0.000000</td>\n    </tr>\n    <tr>\n      <th>Randall_&amp;_Hopkirk_(Deceased)_(2000_TV_series)</th>\n      <td>-0.000000</td>\n    </tr>\n    <tr>\n      <th>Thomas_W._Hartmann</th>\n      <td>-0.000000</td>\n    </tr>\n  </tbody>\n</table>\n<p>242913 rows × 1 columns</p>\n</div>"
     },
     "execution_count": 13,
     "metadata": {},
     "output_type": "execute_result"
    }
   ],
   "source": [
    "hubs.sort_values(by=\"hub_val\", ascending=False)"
   ],
   "metadata": {
    "collapsed": false,
    "ExecuteTime": {
     "end_time": "2023-12-14T17:56:23.353612Z",
     "start_time": "2023-12-14T17:56:23.318683Z"
    }
   },
   "id": "841324d7a1d04057"
  },
  {
   "cell_type": "code",
   "execution_count": 14,
   "outputs": [
    {
     "data": {
      "text/plain": "                              auth_val\npage                                  \nTed_Bundy                 5.351697e-03\nFyre_Festival             2.731316e-03\nMain_Page                 2.644159e-03\nR._Kelly                  2.515182e-03\nAlexandria_Ocasio-Cortez  1.718868e-03\n...                                ...\nSS-77                    -1.524897e-21\nPetiot                   -1.813747e-21\nWorld_cup_of_rugby       -1.947623e-21\nRugby_in_South_Africa    -2.162478e-21\nShaldag                  -7.454593e-21\n\n[242913 rows x 1 columns]",
      "text/html": "<div>\n<style scoped>\n    .dataframe tbody tr th:only-of-type {\n        vertical-align: middle;\n    }\n\n    .dataframe tbody tr th {\n        vertical-align: top;\n    }\n\n    .dataframe thead th {\n        text-align: right;\n    }\n</style>\n<table border=\"1\" class=\"dataframe\">\n  <thead>\n    <tr style=\"text-align: right;\">\n      <th></th>\n      <th>auth_val</th>\n    </tr>\n    <tr>\n      <th>page</th>\n      <th></th>\n    </tr>\n  </thead>\n  <tbody>\n    <tr>\n      <th>Ted_Bundy</th>\n      <td>5.351697e-03</td>\n    </tr>\n    <tr>\n      <th>Fyre_Festival</th>\n      <td>2.731316e-03</td>\n    </tr>\n    <tr>\n      <th>Main_Page</th>\n      <td>2.644159e-03</td>\n    </tr>\n    <tr>\n      <th>R._Kelly</th>\n      <td>2.515182e-03</td>\n    </tr>\n    <tr>\n      <th>Alexandria_Ocasio-Cortez</th>\n      <td>1.718868e-03</td>\n    </tr>\n    <tr>\n      <th>...</th>\n      <td>...</td>\n    </tr>\n    <tr>\n      <th>SS-77</th>\n      <td>-1.524897e-21</td>\n    </tr>\n    <tr>\n      <th>Petiot</th>\n      <td>-1.813747e-21</td>\n    </tr>\n    <tr>\n      <th>World_cup_of_rugby</th>\n      <td>-1.947623e-21</td>\n    </tr>\n    <tr>\n      <th>Rugby_in_South_Africa</th>\n      <td>-2.162478e-21</td>\n    </tr>\n    <tr>\n      <th>Shaldag</th>\n      <td>-7.454593e-21</td>\n    </tr>\n  </tbody>\n</table>\n<p>242913 rows × 1 columns</p>\n</div>"
     },
     "execution_count": 14,
     "metadata": {},
     "output_type": "execute_result"
    }
   ],
   "source": [
    "auths.sort_values(by=\"auth_val\", ascending=False)"
   ],
   "metadata": {
    "collapsed": false,
    "ExecuteTime": {
     "end_time": "2023-12-14T17:56:53.872897Z",
     "start_time": "2023-12-14T17:56:53.830656Z"
    }
   },
   "id": "f067e76ebdcdf8e1"
  },
  {
   "cell_type": "code",
   "execution_count": 39,
   "outputs": [],
   "source": [
    "num_nodes = nx.number_of_nodes(wiki_net)\n",
    "num_edges = nx.number_of_edges(wiki_net)\n",
    "weak_connected = nx.is_weakly_connected(wiki_net)\n",
    "strong_connected = nx.is_strongly_connected(wiki_net)\n",
    "density = nx.density(wiki_net)\n",
    "degree_assort = nx.degree_assortativity_coefficient(wiki_net)"
   ],
   "metadata": {
    "collapsed": false,
    "ExecuteTime": {
     "end_time": "2023-12-14T18:39:32.805298Z",
     "start_time": "2023-12-14T18:39:23.127435Z"
    }
   },
   "id": "99c862997b69f9a0"
  },
  {
   "cell_type": "code",
   "execution_count": 36,
   "outputs": [],
   "source": [
    "# stats = stats.T"
   ],
   "metadata": {
    "collapsed": false,
    "ExecuteTime": {
     "end_time": "2023-12-14T18:37:39.030821Z",
     "start_time": "2023-12-14T18:37:39.026470Z"
    }
   },
   "id": "56f237468cc4e228"
  },
  {
   "cell_type": "code",
   "execution_count": 37,
   "outputs": [],
   "source": [
    "# stats.rename(columns={0: \"value\"}, inplace=True)"
   ],
   "metadata": {
    "collapsed": false,
    "ExecuteTime": {
     "end_time": "2023-12-14T18:37:40.216215Z",
     "start_time": "2023-12-14T18:37:40.212569Z"
    }
   },
   "id": "2f70293a2e775a03"
  },
  {
   "cell_type": "code",
   "execution_count": 40,
   "outputs": [
    {
     "data": {
      "text/plain": "         num_nodes  num_edges  weakly_connect  strong_connect   density  \\\n2019-01     242913    5656422            True           False  0.000096   \n\n         degree_assort  \n2019-01      -0.052194  ",
      "text/html": "<div>\n<style scoped>\n    .dataframe tbody tr th:only-of-type {\n        vertical-align: middle;\n    }\n\n    .dataframe tbody tr th {\n        vertical-align: top;\n    }\n\n    .dataframe thead th {\n        text-align: right;\n    }\n</style>\n<table border=\"1\" class=\"dataframe\">\n  <thead>\n    <tr style=\"text-align: right;\">\n      <th></th>\n      <th>num_nodes</th>\n      <th>num_edges</th>\n      <th>weakly_connect</th>\n      <th>strong_connect</th>\n      <th>density</th>\n      <th>degree_assort</th>\n    </tr>\n  </thead>\n  <tbody>\n    <tr>\n      <th>2019-01</th>\n      <td>242913</td>\n      <td>5656422</td>\n      <td>True</td>\n      <td>False</td>\n      <td>0.000096</td>\n      <td>-0.052194</td>\n    </tr>\n  </tbody>\n</table>\n</div>"
     },
     "execution_count": 40,
     "metadata": {},
     "output_type": "execute_result"
    }
   ],
   "source": [
    "stats = pd.DataFrame({\"num_nodes\": num_nodes, \n",
    "                      \"num_edges\": num_edges, \n",
    "                      \"weakly_connect\": weak_connected, \n",
    "                      \"strong_connect\": strong_connected, \n",
    "                      \"density\": density, \n",
    "                     \"degree_assort\": degree_assort,},\n",
    "                     index=[\"2019-01\"],\n",
    "                     )\n",
    "stats"
   ],
   "metadata": {
    "collapsed": false,
    "ExecuteTime": {
     "end_time": "2023-12-14T18:39:43.109728Z",
     "start_time": "2023-12-14T18:39:43.105188Z"
    }
   },
   "id": "db2940bd67dab3e3"
  },
  {
   "cell_type": "code",
   "execution_count": null,
   "outputs": [],
   "source": [],
   "metadata": {
    "collapsed": false
   },
   "id": "3de931e52b22ee71"
  }
 ],
 "metadata": {
  "kernelspec": {
   "display_name": "Python 3",
   "language": "python",
   "name": "python3"
  },
  "language_info": {
   "codemirror_mode": {
    "name": "ipython",
    "version": 2
   },
   "file_extension": ".py",
   "mimetype": "text/x-python",
   "name": "python",
   "nbconvert_exporter": "python",
   "pygments_lexer": "ipython2",
   "version": "2.7.6"
  }
 },
 "nbformat": 4,
 "nbformat_minor": 5
}
