{
 "cells": [
  {
   "cell_type": "code",
   "execution_count": 214,
   "metadata": {
    "ExecuteTime": {
     "end_time": "2023-12-13T16:49:30.662073Z",
     "start_time": "2023-12-13T16:49:05.536401Z"
    }
   },
   "outputs": [],
   "source": [
    "import pickle\n",
    "import pandas as pd\n",
    "import gzip\n",
    "from tqdm import tqdm\n",
    "from datetime import datetime, timedelta\n",
    "\n",
    "tqdm.pandas()\n",
    "\n",
    "dataset_tuples = []\n",
    "\n",
    "\n",
    "with open('../all_nodes.pkl', 'rb') as f:\n",
    "    nodes = pickle.load(f)\n",
    "\n",
    "with gzip.open('../data/2017-2023/clickstream-enwiki-2019-01.tsv.gz', 'rt', encoding='utf-8') as file:\n",
    "    for line in file:\n",
    "        parts = line.strip().split('\\t')\n",
    "        if parts[0] in nodes and parts[1] in nodes:\n",
    "            dataset_tuples.append((parts[0],parts[1],parts[2],int(parts[3])))"
   ]
  },
  {
   "cell_type": "code",
   "execution_count": 215,
   "metadata": {
    "ExecuteTime": {
     "end_time": "2023-12-13T16:49:45.386308Z",
     "start_time": "2023-12-13T16:49:31.028782Z"
    }
   },
   "outputs": [],
   "source": [
    "df = pd.DataFrame(dataset_tuples, columns=['prev', 'curr', 'type' ,'clicks'])\n",
    "\n",
    "def change_prev(cell):\n",
    "    if cell in ['other-search', 'other-other', 'other-external', 'other-empty',\n",
    "       'other-internal']:\n",
    "        return '_excess_external_adjust_'\n",
    "    return cell\n",
    "df['prev'] = df['prev'].apply(change_prev)\n",
    "\n",
    "outflow = df.groupby('prev')['clicks'].sum().reset_index()\n",
    "inflow = df.groupby('curr')['clicks'].sum().reset_index()\n",
    "\n",
    "t = inflow.merge(outflow, how='left', left_on=['curr'], right_on=['prev'], suffixes=['_inflow', '_outflow']).fillna(0)\n",
    "t['delta']=t['clicks_inflow']-t['clicks_outflow']\n",
    "net_counts = []\n",
    "for page, c_i, c_o in zip(t['prev'], t['clicks_inflow'], t['clicks_outflow']):\n",
    "    if c_i < c_o:\n",
    "        net_counts.append((page,c_o))\n",
    "    else:\n",
    "        net_counts.append((page, c_i))\n",
    "\n",
    "t = pd.DataFrame(net_counts, columns=['page', 'total'])\n",
    "\n",
    "probability_df = df.merge(t, how='left', left_on=['prev'], right_on=['page'])\n",
    "probability_df=probability_df.fillna(df[df['prev']=='_excess_external_adjust_']['clicks'].sum())\n",
    "probability_df['transition_probability'] = probability_df['clicks']/probability_df['total']\n",
    "idx_page = list(set([*probability_df['curr'].unique(), *probability_df['prev'].unique()]))\n",
    "page_idx = {page:i for i, page in enumerate(idx_page)}\n"
   ]
  },
  {
   "cell_type": "code",
   "execution_count": 216,
   "metadata": {
    "ExecuteTime": {
     "end_time": "2023-12-13T16:49:54.949230Z",
     "start_time": "2023-12-13T16:49:45.386542Z"
    }
   },
   "outputs": [
    {
     "name": "stderr",
     "output_type": "stream",
     "text": [
      "100%|██████████| 7687194/7687194 [00:06<00:00, 1227598.39it/s]\n",
      "100%|██████████| 7687194/7687194 [00:03<00:00, 2341834.47it/s]\n"
     ]
    }
   ],
   "source": [
    "def change_to_idx(cell):\n",
    "    return page_idx[cell]\n",
    "\n",
    "probability_df['i'] = probability_df['prev'].progress_apply(change_to_idx)\n",
    "probability_df['j'] = probability_df['curr'].progress_apply(change_to_idx)"
   ]
  },
  {
   "cell_type": "code",
   "execution_count": 217,
   "metadata": {
    "ExecuteTime": {
     "end_time": "2023-12-13T16:49:54.951702Z",
     "start_time": "2023-12-13T16:49:54.948556Z"
    }
   },
   "outputs": [
    {
     "data": {
      "text/plain": "float"
     },
     "execution_count": 217,
     "metadata": {},
     "output_type": "execute_result"
    }
   ],
   "source": [
    "type(1-3.341394e-09)"
   ]
  },
  {
   "cell_type": "code",
   "execution_count": 218,
   "metadata": {
    "ExecuteTime": {
     "end_time": "2023-12-13T16:49:55.252399Z",
     "start_time": "2023-12-13T16:49:54.952899Z"
    }
   },
   "outputs": [],
   "source": [
    "pad_df = probability_df.groupby('i')['transition_probability'].sum().sort_values(ascending=False).reset_index()\n",
    "pad_df['padding'] = [str(1-p) for p in pad_df['transition_probability']]\n",
    "s = set(pad_df['i'].unique())\n",
    "extra = [i for i in range(len(page_idx)) if i not in s]"
   ]
  },
  {
   "cell_type": "code",
   "execution_count": 219,
   "metadata": {
    "ExecuteTime": {
     "end_time": "2023-12-13T16:50:02.089559Z",
     "start_time": "2023-12-13T16:49:55.534004Z"
    }
   },
   "outputs": [],
   "source": [
    "from scipy.sparse import csr_matrix\n",
    "\n",
    "weight =[]\n",
    "adj = []\n",
    "row = []\n",
    "col = []\n",
    "\n",
    "for i,j, prob in zip(probability_df['i'],probability_df['j'],probability_df['transition_probability']):\n",
    "    row.append(i)\n",
    "    col.append(j)\n",
    "    weight.append(prob)\n",
    "    adj.append(1)\n",
    "\n",
    "for i,prob in zip(pad_df['i'], pad_df['padding']):\n",
    "    if float(prob)>0:\n",
    "        row.append(i)\n",
    "        col.append(page_idx['_excess_external_adjust_'])\n",
    "        weight.append(float(prob))\n",
    "        adj.append(1)\n",
    "\n",
    "for i in extra:\n",
    "        row.append(i)\n",
    "        col.append(page_idx['_excess_external_adjust_'])\n",
    "        weight.append(1)\n",
    "        adj.append(1)\n",
    "\n",
    "adj_matrix = csr_matrix((adj, (row,col)), shape=(len(page_idx), len(page_idx)))\n",
    "wt_matrix = csr_matrix((weight, (row,col)), shape=(len(page_idx), len(page_idx)))"
   ]
  },
  {
   "cell_type": "code",
   "execution_count": null,
   "outputs": [],
   "source": [
    "# Write to disk\n",
    "adj_matrix_df = pd.DataFrame.sparse.from_spmatrix(adj_matrix)\n",
    "wt_matrix_df = pd.DataFrame.sparse.from_spmatrix(wt_matrix)\n",
    "adj_matrix_df.to_parquet(\"../output/random_walks/adj_matrix/2019-01_sept11.parquet\")\n",
    "wt_matrix_df.to_parquet(\"../output/random_walks/wt_matrix/2019-01_sept11.parquet\")"
   ],
   "metadata": {
    "collapsed": false
   }
  },
  {
   "cell_type": "code",
   "execution_count": 220,
   "metadata": {
    "ExecuteTime": {
     "end_time": "2023-12-13T16:50:06.821676Z",
     "start_time": "2023-12-13T16:50:02.109472Z"
    }
   },
   "outputs": [
    {
     "data": {
      "text/plain": "0.0019243227275166465"
     },
     "metadata": {},
     "output_type": "display_data"
    },
    {
     "data": {
      "text/plain": "'Main_Page'"
     },
     "metadata": {},
     "output_type": "display_data"
    },
    {
     "data": {
      "text/plain": "'1999_Manitoba_general_election'"
     },
     "metadata": {},
     "output_type": "display_data"
    },
    {
     "data": {
      "text/plain": "0.0019243227275165592"
     },
     "metadata": {},
     "output_type": "display_data"
    },
    {
     "data": {
      "text/plain": "'Twin_Towers'"
     },
     "metadata": {},
     "output_type": "display_data"
    },
    {
     "data": {
      "text/plain": "'September_11_attacks'"
     },
     "metadata": {},
     "output_type": "display_data"
    }
   ],
   "source": [
    "from scipy.sparse.linalg import eigs\n",
    "import numpy as np\n",
    "pdf = [1/len(idx_page) for i in range(len(idx_page))] # initial probability uniform\n",
    "egv, egvect= eigs(wt_matrix, v0=pdf)\n",
    "prv, prank = egv[0], abs(egvect[:,0])\n",
    "display(prank[page_idx['September_11_attacks']], idx_page[np.argmax(prank)], idx_page[np.argmin(prank)])\n",
    "\n",
    "# Write to disk\n",
    "# page_idx == index in resulting DataFrame\n",
    "eig_cents = pd.DataFrame(prank, columns=[\"eig_cent\"])\n",
    "page_names = pd.DataFrame(idx_page, columns=[\"page\"])\n",
    "joined_pages_eigs = page_names.join(eig_cents)\n",
    "joined_pages_eigs.to_csv(\"../output/random_walks/uniform_prob/2019-01_sept11_uniform.csv\")\n",
    "\n",
    "pdf = np.zeros(len(page_idx))\n",
    "pdf[page_idx['September_11_attacks']] = 1 # initial probability not uniform\n",
    "egv, egvect= eigs(wt_matrix, v0=pdf)\n",
    "prv, prank = egv[0], abs(egvect[:,0])\n",
    "display(prank[page_idx['September_11_attacks']], idx_page[np.argmax(prank)], idx_page[np.argmin(prank)])\n",
    "\n",
    "# Write to disk\n",
    "# page_idx == index in resulting DataFrame\n",
    "eig_cents = pd.DataFrame(prank, columns=[\"eig_cent\"])\n",
    "page_names = pd.DataFrame(idx_page, columns=[\"page\"])\n",
    "joined_pages_eigs = page_names.join(eig_cents)\n",
    "joined_pages_eigs.to_csv(\"../output/random_walks/not_uniform_prob/2019-01_sept11_~uniform.csv\")"
   ]
  },
  {
   "cell_type": "code",
   "execution_count": 227,
   "outputs": [
    {
     "data": {
      "text/plain": "array([1, 1, 1, ..., 1, 1, 1])"
     },
     "execution_count": 227,
     "metadata": {},
     "output_type": "execute_result"
    }
   ],
   "source": [
    "# adj_matrix.data"
   ],
   "metadata": {
    "collapsed": false,
    "ExecuteTime": {
     "end_time": "2023-12-13T16:57:11.457194Z",
     "start_time": "2023-12-13T16:57:11.437380Z"
    }
   }
  },
  {
   "cell_type": "code",
   "execution_count": 228,
   "outputs": [
    {
     "data": {
      "text/plain": "array([0.00688675, 0.00480979, 0.00174902, ..., 0.01660819, 0.00491228,\n       0.01473684])"
     },
     "execution_count": 228,
     "metadata": {},
     "output_type": "execute_result"
    }
   ],
   "source": [
    "# wt_matrix.data"
   ],
   "metadata": {
    "collapsed": false,
    "ExecuteTime": {
     "end_time": "2023-12-13T16:57:44.699819Z",
     "start_time": "2023-12-13T16:57:44.682161Z"
    }
   }
  },
  {
   "cell_type": "code",
   "execution_count": null,
   "outputs": [],
   "source": [],
   "metadata": {
    "collapsed": false
   }
  }
 ],
 "metadata": {
  "kernelspec": {
   "display_name": "Python 3",
   "language": "python",
   "name": "python3"
  },
  "language_info": {
   "codemirror_mode": {
    "name": "ipython",
    "version": 3
   },
   "file_extension": ".py",
   "mimetype": "text/x-python",
   "name": "python",
   "nbconvert_exporter": "python",
   "pygments_lexer": "ipython3",
   "version": "3.11.2"
  }
 },
 "nbformat": 4,
 "nbformat_minor": 2
}
