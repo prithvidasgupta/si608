{
 "cells": [
  {
   "cell_type": "code",
   "execution_count": 1,
   "metadata": {},
   "outputs": [],
   "source": [
    "import pickle\n",
    "import pandas as pd\n",
    "import gzip\n",
    "from tqdm import tqdm\n",
    "\n",
    "tqdm.pandas()\n",
    "\n",
    "dataset_tuples = []\n",
    "\n",
    "with open('./all_nodes.pkl', 'rb') as f:\n",
    "    nodes = pickle.load(f)\n",
    "\n",
    "with gzip.open('./dataset/clickstream-enwiki-2023-09.tsv.gz', 'rt', encoding='utf-8') as file:\n",
    "    for line in file:\n",
    "        parts = line.strip().split('\\t')\n",
    "        if parts[0] in nodes and parts[1] in nodes:\n",
    "            dataset_tuples.append((parts[0],parts[1],parts[2],int(parts[3])))"
   ]
  },
  {
   "cell_type": "code",
   "execution_count": 2,
   "metadata": {},
   "outputs": [],
   "source": [
    "df = pd.DataFrame(dataset_tuples, columns=['prev', 'curr', 'type' ,'clicks'])\n",
    "\n",
    "def change_prev(cell):\n",
    "    if cell in ['other-search', 'other-other', 'other-external', 'other-empty',\n",
    "       'other-internal']:\n",
    "        return '_excess_external_adjust_'\n",
    "    return cell\n",
    "df['prev'] = df['prev'].apply(change_prev)\n",
    "\n",
    "outflow = df.groupby('prev')['clicks'].sum().reset_index()\n",
    "inflow = df.groupby('curr')['clicks'].sum().reset_index()\n",
    "\n",
    "t = inflow.merge(outflow, how='left', left_on=['curr'], right_on=['prev'], suffixes=['_inflow', '_outflow']).fillna(0)\n",
    "t['delta']=t['clicks_inflow']-t['clicks_outflow']\n",
    "net_counts = []\n",
    "for page, c_i, c_o in zip(t['prev'], t['clicks_inflow'], t['clicks_outflow']):\n",
    "    if c_i < c_o:\n",
    "        net_counts.append((page,c_o))\n",
    "    else:\n",
    "        net_counts.append((page, c_i))\n",
    "\n",
    "t = pd.DataFrame(net_counts, columns=['page', 'total'])\n",
    "\n",
    "probability_df = df.merge(t, how='left', left_on=['prev'], right_on=['page'])\n",
    "probability_df=probability_df.fillna(df[df['prev']=='_excess_external_adjust_']['clicks'].sum())\n",
    "probability_df['transition_probability'] = probability_df['clicks']/probability_df['total']\n",
    "idx_page = list(set([*probability_df['curr'].unique(), *probability_df['prev'].unique()]))\n",
    "page_idx = {page:i for i, page in enumerate(idx_page)}\n"
   ]
  },
  {
   "cell_type": "code",
   "execution_count": 3,
   "metadata": {},
   "outputs": [
    {
     "name": "stderr",
     "output_type": "stream",
     "text": [
      "100%|██████████| 7753497/7753497 [00:12<00:00, 604537.14it/s]\n",
      "100%|██████████| 7753497/7753497 [00:06<00:00, 1177542.76it/s]\n"
     ]
    }
   ],
   "source": [
    "def change_to_idx(cell):\n",
    "    return page_idx[cell]\n",
    "\n",
    "probability_df['i'] = probability_df['prev'].progress_apply(change_to_idx)\n",
    "probability_df['j'] = probability_df['curr'].progress_apply(change_to_idx)"
   ]
  },
  {
   "cell_type": "code",
   "execution_count": 49,
   "metadata": {},
   "outputs": [
    {
     "data": {
      "text/plain": [
       "float"
      ]
     },
     "execution_count": 49,
     "metadata": {},
     "output_type": "execute_result"
    }
   ],
   "source": [
    "type(1-3.341394e-09)"
   ]
  },
  {
   "cell_type": "code",
   "execution_count": 96,
   "metadata": {},
   "outputs": [],
   "source": [
    "pad_df = probability_df.groupby('i')['transition_probability'].sum().sort_values(ascending=False).reset_index()\n",
    "pad_df['padding'] = [str(1-p) for p in pad_df['transition_probability']]\n",
    "s = set(pad_df['i'].unique())\n",
    "extra = [i for i in range(len(page_idx)) if i not in s]"
   ]
  },
  {
   "cell_type": "code",
   "execution_count": 97,
   "metadata": {},
   "outputs": [],
   "source": [
    "from scipy.sparse import csr_matrix\n",
    "\n",
    "weight =[]\n",
    "adj = []\n",
    "row = []\n",
    "col = []\n",
    "\n",
    "for i,j, prob in zip(probability_df['i'],probability_df['j'],probability_df['transition_probability']):\n",
    "    row.append(i)\n",
    "    col.append(j)\n",
    "    weight.append(prob)\n",
    "    adj.append(1)\n",
    "\n",
    "for i,prob in zip(pad_df['i'], pad_df['padding']):\n",
    "    if float(prob)>0:\n",
    "        row.append(i)\n",
    "        col.append(page_idx['_excess_external_adjust_'])\n",
    "        weight.append(float(prob))\n",
    "        adj.append(1)\n",
    "\n",
    "for i in extra:\n",
    "        row.append(i)\n",
    "        col.append(page_idx['_excess_external_adjust_'])\n",
    "        weight.append(1)\n",
    "        adj.append(1)\n",
    "\n",
    "adj_matrix = csr_matrix((adj, (row,col)), shape=(len(page_idx), len(page_idx)))\n",
    "wt_matrix = csr_matrix((weight, (row,col)), shape=(len(page_idx), len(page_idx)))"
   ]
  },
  {
   "cell_type": "code",
   "execution_count": 205,
   "metadata": {},
   "outputs": [
    {
     "data": {
      "text/plain": [
       "0.0019024338184521106"
      ]
     },
     "metadata": {},
     "output_type": "display_data"
    },
    {
     "data": {
      "text/plain": [
       "'September_2019_Israeli_legislative_election'"
      ]
     },
     "metadata": {},
     "output_type": "display_data"
    },
    {
     "data": {
      "text/plain": [
       "'Main_Page'"
      ]
     },
     "metadata": {},
     "output_type": "display_data"
    },
    {
     "data": {
      "text/plain": [
       "0.0019024338184512278"
      ]
     },
     "metadata": {},
     "output_type": "display_data"
    },
    {
     "data": {
      "text/plain": [
       "'World_Trade'"
      ]
     },
     "metadata": {},
     "output_type": "display_data"
    },
    {
     "data": {
      "text/plain": [
       "'2003_Manitoba_general_election'"
      ]
     },
     "metadata": {},
     "output_type": "display_data"
    }
   ],
   "source": [
    "from scipy.sparse.linalg import eigs\n",
    "import numpy as np\n",
    "pdf = [1/len(idx_page) for i in range(len(idx_page))] # initial probability uniform\n",
    "egv, egvect= eigs(wt_matrix, v0=pdf)\n",
    "prv, prank = egv[0], abs(egvect[:,0])\n",
    "display(prank[page_idx['September_11_attacks']], idx_page[np.argmax(prank)], idx_page[np.argmin(prank)])\n",
    "\n",
    "\n",
    "pdf = np.zeros(len(page_idx))\n",
    "pdf[page_idx['September_11_attacks']] = 1 # initial probability not uniform\n",
    "egv, egvect= eigs(wt_matrix, v0=pdf)\n",
    "prv, prank = egv[0], abs(egvect[:,0])\n",
    "display(prank[page_idx['September_11_attacks']], idx_page[np.argmax(prank)], idx_page[np.argmin(prank)])"
   ]
  }
 ],
 "metadata": {
  "kernelspec": {
   "display_name": "Python 3",
   "language": "python",
   "name": "python3"
  },
  "language_info": {
   "codemirror_mode": {
    "name": "ipython",
    "version": 3
   },
   "file_extension": ".py",
   "mimetype": "text/x-python",
   "name": "python",
   "nbconvert_exporter": "python",
   "pygments_lexer": "ipython3",
   "version": "3.11.2"
  }
 },
 "nbformat": 4,
 "nbformat_minor": 2
}
